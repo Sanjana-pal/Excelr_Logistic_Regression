{
 "cells": [
  {
   "cell_type": "markdown",
   "id": "b4e12768",
   "metadata": {},
   "source": [
    "### Created - Sanjana pal\n",
    "\n",
    "### LOGISTICS REGRESSION"
   ]
  },
  {
   "cell_type": "markdown",
   "id": "70fcb308",
   "metadata": {},
   "source": [
    "# Problem Statement\n",
    "Attribute information For bank dataset\n",
    "\n",
    "   Input variables:\n",
    "   # bank client data:\n",
    "   1 - age (numeric)\n",
    "   2 - job : type of job (categorical: \"admin.\",\"unknown\",\"unemployed\",\"management\",\"housemaid\",\"entrepreneur\",\"student\",\n",
    "                                       \"blue-collar\",\"self-employed\",\"retired\",\"technician\",\"services\") \n",
    "   3 - marital : marital status (categorical: \"married\",\"divorced\",\"single\"; note: \"divorced\" means divorced or widowed)\n",
    "   4 - education (categorical: \"unknown\",\"secondary\",\"primary\",\"tertiary\")\n",
    "   5 - default: has credit in default? (binary: \"yes\",\"no\")\n",
    "   6 - balance: average yearly balance, in euros (numeric) \n",
    "   7 - housing: has housing loan? (binary: \"yes\",\"no\")\n",
    "   8 - loan: has personal loan? (binary: \"yes\",\"no\")\n",
    "   # related with the last contact of the current campaign:\n",
    "   9 - contact: contact communication type (categorical: \"unknown\",\"telephone\",\"cellular\") \n",
    "  10 - day: last contact day of the month (numeric)\n",
    "  11 - month: last contact month of year (categorical: \"jan\", \"feb\", \"mar\", ..., \"nov\", \"dec\")\n",
    "  12 - duration: last contact duration, in seconds (numeric)\n",
    "   # other attributes:\n",
    "  13 - campaign: number of contacts performed during this campaign and for this client (numeric, includes last contact)\n",
    "  14 - pdays: number of days that passed by after the client was last contacted from a previous campaign (numeric, -1 means client was not previously contacted)\n",
    "  15 - previous: number of contacts performed before this campaign and for this client (numeric)\n",
    "  16 - poutcome: outcome of the previous marketing campaign (categorical: \"unknown\",\"other\",\"failure\",\"success\")\n",
    "\n",
    "  Output variable (desired target):\n",
    "  17 - y - has the client subscribed a term deposit? (binary: \"yes\",\"no\")\n",
    "\n",
    "8. Missing Attribute Values: None\n"
   ]
  },
  {
   "cell_type": "code",
   "execution_count": 61,
   "id": "d2961d29",
   "metadata": {},
   "outputs": [],
   "source": [
    "import pandas as pd\n",
    "import numpy as np\n",
    "import matplotlib.pyplot as plt\n",
    "import seaborn as sns\n",
    "import plotly.express as pe\n",
    "from sklearn.model_selection import train_test_split\n",
    "from sklearn.preprocessing import StandardScaler\n",
    "from sklearn.linear_model import LogisticRegression\n",
    "import warnings\n",
    "warnings.filterwarnings('ignore')\n",
    "%matplotlib inline"
   ]
  },
  {
   "cell_type": "code",
   "execution_count": 2,
   "id": "88102fbe",
   "metadata": {},
   "outputs": [],
   "source": [
    "df = pd.read_csv(\"bank-full.csv\")"
   ]
  },
  {
   "cell_type": "code",
   "execution_count": 3,
   "id": "00b5f4db",
   "metadata": {},
   "outputs": [
    {
     "data": {
      "text/html": [
       "<div>\n",
       "<style scoped>\n",
       "    .dataframe tbody tr th:only-of-type {\n",
       "        vertical-align: middle;\n",
       "    }\n",
       "\n",
       "    .dataframe tbody tr th {\n",
       "        vertical-align: top;\n",
       "    }\n",
       "\n",
       "    .dataframe thead th {\n",
       "        text-align: right;\n",
       "    }\n",
       "</style>\n",
       "<table border=\"1\" class=\"dataframe\">\n",
       "  <thead>\n",
       "    <tr style=\"text-align: right;\">\n",
       "      <th></th>\n",
       "      <th>age</th>\n",
       "      <th>job</th>\n",
       "      <th>marital</th>\n",
       "      <th>education</th>\n",
       "      <th>default</th>\n",
       "      <th>balance</th>\n",
       "      <th>housing</th>\n",
       "      <th>loan</th>\n",
       "      <th>contact</th>\n",
       "      <th>day</th>\n",
       "      <th>month</th>\n",
       "      <th>duration</th>\n",
       "      <th>campaign</th>\n",
       "      <th>pdays</th>\n",
       "      <th>previous</th>\n",
       "      <th>poutcome</th>\n",
       "      <th>Target</th>\n",
       "    </tr>\n",
       "  </thead>\n",
       "  <tbody>\n",
       "    <tr>\n",
       "      <th>0</th>\n",
       "      <td>58</td>\n",
       "      <td>management</td>\n",
       "      <td>married</td>\n",
       "      <td>tertiary</td>\n",
       "      <td>no</td>\n",
       "      <td>2143</td>\n",
       "      <td>yes</td>\n",
       "      <td>no</td>\n",
       "      <td>unknown</td>\n",
       "      <td>5</td>\n",
       "      <td>may</td>\n",
       "      <td>261</td>\n",
       "      <td>1</td>\n",
       "      <td>-1</td>\n",
       "      <td>0</td>\n",
       "      <td>unknown</td>\n",
       "      <td>no</td>\n",
       "    </tr>\n",
       "    <tr>\n",
       "      <th>1</th>\n",
       "      <td>44</td>\n",
       "      <td>technician</td>\n",
       "      <td>single</td>\n",
       "      <td>secondary</td>\n",
       "      <td>no</td>\n",
       "      <td>29</td>\n",
       "      <td>yes</td>\n",
       "      <td>no</td>\n",
       "      <td>unknown</td>\n",
       "      <td>5</td>\n",
       "      <td>may</td>\n",
       "      <td>151</td>\n",
       "      <td>1</td>\n",
       "      <td>-1</td>\n",
       "      <td>0</td>\n",
       "      <td>unknown</td>\n",
       "      <td>no</td>\n",
       "    </tr>\n",
       "    <tr>\n",
       "      <th>2</th>\n",
       "      <td>33</td>\n",
       "      <td>entrepreneur</td>\n",
       "      <td>married</td>\n",
       "      <td>secondary</td>\n",
       "      <td>no</td>\n",
       "      <td>2</td>\n",
       "      <td>yes</td>\n",
       "      <td>yes</td>\n",
       "      <td>unknown</td>\n",
       "      <td>5</td>\n",
       "      <td>may</td>\n",
       "      <td>76</td>\n",
       "      <td>1</td>\n",
       "      <td>-1</td>\n",
       "      <td>0</td>\n",
       "      <td>unknown</td>\n",
       "      <td>no</td>\n",
       "    </tr>\n",
       "    <tr>\n",
       "      <th>3</th>\n",
       "      <td>47</td>\n",
       "      <td>blue-collar</td>\n",
       "      <td>married</td>\n",
       "      <td>unknown</td>\n",
       "      <td>no</td>\n",
       "      <td>1506</td>\n",
       "      <td>yes</td>\n",
       "      <td>no</td>\n",
       "      <td>unknown</td>\n",
       "      <td>5</td>\n",
       "      <td>may</td>\n",
       "      <td>92</td>\n",
       "      <td>1</td>\n",
       "      <td>-1</td>\n",
       "      <td>0</td>\n",
       "      <td>unknown</td>\n",
       "      <td>no</td>\n",
       "    </tr>\n",
       "    <tr>\n",
       "      <th>4</th>\n",
       "      <td>33</td>\n",
       "      <td>unknown</td>\n",
       "      <td>single</td>\n",
       "      <td>unknown</td>\n",
       "      <td>no</td>\n",
       "      <td>1</td>\n",
       "      <td>no</td>\n",
       "      <td>no</td>\n",
       "      <td>unknown</td>\n",
       "      <td>5</td>\n",
       "      <td>may</td>\n",
       "      <td>198</td>\n",
       "      <td>1</td>\n",
       "      <td>-1</td>\n",
       "      <td>0</td>\n",
       "      <td>unknown</td>\n",
       "      <td>no</td>\n",
       "    </tr>\n",
       "  </tbody>\n",
       "</table>\n",
       "</div>"
      ],
      "text/plain": [
       "   age           job  marital  education default  balance housing loan  \\\n",
       "0   58    management  married   tertiary      no     2143     yes   no   \n",
       "1   44    technician   single  secondary      no       29     yes   no   \n",
       "2   33  entrepreneur  married  secondary      no        2     yes  yes   \n",
       "3   47   blue-collar  married    unknown      no     1506     yes   no   \n",
       "4   33       unknown   single    unknown      no        1      no   no   \n",
       "\n",
       "   contact  day month  duration  campaign  pdays  previous poutcome Target  \n",
       "0  unknown    5   may       261         1     -1         0  unknown     no  \n",
       "1  unknown    5   may       151         1     -1         0  unknown     no  \n",
       "2  unknown    5   may        76         1     -1         0  unknown     no  \n",
       "3  unknown    5   may        92         1     -1         0  unknown     no  \n",
       "4  unknown    5   may       198         1     -1         0  unknown     no  "
      ]
     },
     "execution_count": 3,
     "metadata": {},
     "output_type": "execute_result"
    }
   ],
   "source": [
    "df.head()"
   ]
  },
  {
   "cell_type": "code",
   "execution_count": null,
   "id": "ea604d16",
   "metadata": {},
   "outputs": [],
   "source": []
  },
  {
   "cell_type": "code",
   "execution_count": 4,
   "id": "2e2dac24",
   "metadata": {},
   "outputs": [
    {
     "data": {
      "text/plain": [
       "no     39922\n",
       "yes     5289\n",
       "Name: Target, dtype: int64"
      ]
     },
     "execution_count": 4,
     "metadata": {},
     "output_type": "execute_result"
    }
   ],
   "source": [
    "df['Target'].value_counts()"
   ]
  },
  {
   "cell_type": "code",
   "execution_count": 5,
   "id": "b1a56afa",
   "metadata": {},
   "outputs": [
    {
     "data": {
      "text/html": [
       "<div>\n",
       "<style scoped>\n",
       "    .dataframe tbody tr th:only-of-type {\n",
       "        vertical-align: middle;\n",
       "    }\n",
       "\n",
       "    .dataframe tbody tr th {\n",
       "        vertical-align: top;\n",
       "    }\n",
       "\n",
       "    .dataframe thead th {\n",
       "        text-align: right;\n",
       "    }\n",
       "</style>\n",
       "<table border=\"1\" class=\"dataframe\">\n",
       "  <thead>\n",
       "    <tr style=\"text-align: right;\">\n",
       "      <th></th>\n",
       "      <th>age</th>\n",
       "      <th>balance</th>\n",
       "      <th>day</th>\n",
       "      <th>duration</th>\n",
       "      <th>campaign</th>\n",
       "      <th>pdays</th>\n",
       "      <th>previous</th>\n",
       "    </tr>\n",
       "  </thead>\n",
       "  <tbody>\n",
       "    <tr>\n",
       "      <th>count</th>\n",
       "      <td>45211.000000</td>\n",
       "      <td>45211.000000</td>\n",
       "      <td>45211.000000</td>\n",
       "      <td>45211.000000</td>\n",
       "      <td>45211.000000</td>\n",
       "      <td>45211.000000</td>\n",
       "      <td>45211.000000</td>\n",
       "    </tr>\n",
       "    <tr>\n",
       "      <th>mean</th>\n",
       "      <td>40.936210</td>\n",
       "      <td>1362.272058</td>\n",
       "      <td>15.806419</td>\n",
       "      <td>258.163080</td>\n",
       "      <td>2.763841</td>\n",
       "      <td>40.197828</td>\n",
       "      <td>0.580323</td>\n",
       "    </tr>\n",
       "    <tr>\n",
       "      <th>std</th>\n",
       "      <td>10.618762</td>\n",
       "      <td>3044.765829</td>\n",
       "      <td>8.322476</td>\n",
       "      <td>257.527812</td>\n",
       "      <td>3.098021</td>\n",
       "      <td>100.128746</td>\n",
       "      <td>2.303441</td>\n",
       "    </tr>\n",
       "    <tr>\n",
       "      <th>min</th>\n",
       "      <td>18.000000</td>\n",
       "      <td>-8019.000000</td>\n",
       "      <td>1.000000</td>\n",
       "      <td>0.000000</td>\n",
       "      <td>1.000000</td>\n",
       "      <td>-1.000000</td>\n",
       "      <td>0.000000</td>\n",
       "    </tr>\n",
       "    <tr>\n",
       "      <th>25%</th>\n",
       "      <td>33.000000</td>\n",
       "      <td>72.000000</td>\n",
       "      <td>8.000000</td>\n",
       "      <td>103.000000</td>\n",
       "      <td>1.000000</td>\n",
       "      <td>-1.000000</td>\n",
       "      <td>0.000000</td>\n",
       "    </tr>\n",
       "    <tr>\n",
       "      <th>50%</th>\n",
       "      <td>39.000000</td>\n",
       "      <td>448.000000</td>\n",
       "      <td>16.000000</td>\n",
       "      <td>180.000000</td>\n",
       "      <td>2.000000</td>\n",
       "      <td>-1.000000</td>\n",
       "      <td>0.000000</td>\n",
       "    </tr>\n",
       "    <tr>\n",
       "      <th>75%</th>\n",
       "      <td>48.000000</td>\n",
       "      <td>1428.000000</td>\n",
       "      <td>21.000000</td>\n",
       "      <td>319.000000</td>\n",
       "      <td>3.000000</td>\n",
       "      <td>-1.000000</td>\n",
       "      <td>0.000000</td>\n",
       "    </tr>\n",
       "    <tr>\n",
       "      <th>max</th>\n",
       "      <td>95.000000</td>\n",
       "      <td>102127.000000</td>\n",
       "      <td>31.000000</td>\n",
       "      <td>4918.000000</td>\n",
       "      <td>63.000000</td>\n",
       "      <td>871.000000</td>\n",
       "      <td>275.000000</td>\n",
       "    </tr>\n",
       "  </tbody>\n",
       "</table>\n",
       "</div>"
      ],
      "text/plain": [
       "                age        balance           day      duration      campaign  \\\n",
       "count  45211.000000   45211.000000  45211.000000  45211.000000  45211.000000   \n",
       "mean      40.936210    1362.272058     15.806419    258.163080      2.763841   \n",
       "std       10.618762    3044.765829      8.322476    257.527812      3.098021   \n",
       "min       18.000000   -8019.000000      1.000000      0.000000      1.000000   \n",
       "25%       33.000000      72.000000      8.000000    103.000000      1.000000   \n",
       "50%       39.000000     448.000000     16.000000    180.000000      2.000000   \n",
       "75%       48.000000    1428.000000     21.000000    319.000000      3.000000   \n",
       "max       95.000000  102127.000000     31.000000   4918.000000     63.000000   \n",
       "\n",
       "              pdays      previous  \n",
       "count  45211.000000  45211.000000  \n",
       "mean      40.197828      0.580323  \n",
       "std      100.128746      2.303441  \n",
       "min       -1.000000      0.000000  \n",
       "25%       -1.000000      0.000000  \n",
       "50%       -1.000000      0.000000  \n",
       "75%       -1.000000      0.000000  \n",
       "max      871.000000    275.000000  "
      ]
     },
     "execution_count": 5,
     "metadata": {},
     "output_type": "execute_result"
    }
   ],
   "source": [
    "df.describe()"
   ]
  },
  {
   "cell_type": "markdown",
   "id": "f55fef38",
   "metadata": {},
   "source": [
    "- describe shows mean,median,mode in data,it also shows the 25-50-75 percentile."
   ]
  },
  {
   "cell_type": "code",
   "execution_count": 77,
   "id": "d14d28ba",
   "metadata": {},
   "outputs": [
    {
     "data": {
      "text/plain": [
       "age                    0\n",
       "balance                0\n",
       "day                    0\n",
       "duration               0\n",
       "campaign               0\n",
       "pdays                  0\n",
       "previous               0\n",
       "Target                 0\n",
       "job_blue-collar        0\n",
       "job_entrepreneur       0\n",
       "job_housemaid          0\n",
       "job_management         0\n",
       "job_retired            0\n",
       "job_self-employed      0\n",
       "job_services           0\n",
       "job_student            0\n",
       "job_technician         0\n",
       "job_unemployed         0\n",
       "job_unknown            0\n",
       "marital_married        0\n",
       "marital_single         0\n",
       "education_secondary    0\n",
       "education_tertiary     0\n",
       "education_unknown      0\n",
       "default_yes            0\n",
       "housing_yes            0\n",
       "loan_yes               0\n",
       "contact_telephone      0\n",
       "contact_unknown        0\n",
       "month_aug              0\n",
       "month_dec              0\n",
       "month_feb              0\n",
       "month_jan              0\n",
       "month_jul              0\n",
       "month_jun              0\n",
       "month_mar              0\n",
       "month_may              0\n",
       "month_nov              0\n",
       "month_oct              0\n",
       "month_sep              0\n",
       "poutcome_other         0\n",
       "poutcome_success       0\n",
       "poutcome_unknown       0\n",
       "dtype: int64"
      ]
     },
     "execution_count": 77,
     "metadata": {},
     "output_type": "execute_result"
    }
   ],
   "source": [
    "df.isna().sum()"
   ]
  },
  {
   "cell_type": "code",
   "execution_count": 7,
   "id": "8384be96",
   "metadata": {},
   "outputs": [
    {
     "name": "stdout",
     "output_type": "stream",
     "text": [
      "<class 'pandas.core.frame.DataFrame'>\n",
      "RangeIndex: 45211 entries, 0 to 45210\n",
      "Data columns (total 17 columns):\n",
      " #   Column     Non-Null Count  Dtype \n",
      "---  ------     --------------  ----- \n",
      " 0   age        45211 non-null  int64 \n",
      " 1   job        45211 non-null  object\n",
      " 2   marital    45211 non-null  object\n",
      " 3   education  45211 non-null  object\n",
      " 4   default    45211 non-null  object\n",
      " 5   balance    45211 non-null  int64 \n",
      " 6   housing    45211 non-null  object\n",
      " 7   loan       45211 non-null  object\n",
      " 8   contact    45211 non-null  object\n",
      " 9   day        45211 non-null  int64 \n",
      " 10  month      45211 non-null  object\n",
      " 11  duration   45211 non-null  int64 \n",
      " 12  campaign   45211 non-null  int64 \n",
      " 13  pdays      45211 non-null  int64 \n",
      " 14  previous   45211 non-null  int64 \n",
      " 15  poutcome   45211 non-null  object\n",
      " 16  Target     45211 non-null  object\n",
      "dtypes: int64(7), object(10)\n",
      "memory usage: 5.9+ MB\n"
     ]
    }
   ],
   "source": [
    "df.info()"
   ]
  },
  {
   "cell_type": "code",
   "execution_count": null,
   "id": "a267f47c",
   "metadata": {},
   "outputs": [],
   "source": []
  },
  {
   "cell_type": "code",
   "execution_count": 8,
   "id": "d4da1c0a",
   "metadata": {},
   "outputs": [],
   "source": [
    "df['Target'].replace('no',0,inplace=True)\n",
    "df['Target'].replace('yes',1,inplace=True)"
   ]
  },
  {
   "cell_type": "code",
   "execution_count": 9,
   "id": "00ea7a26",
   "metadata": {},
   "outputs": [
    {
     "data": {
      "text/html": [
       "<div>\n",
       "<style scoped>\n",
       "    .dataframe tbody tr th:only-of-type {\n",
       "        vertical-align: middle;\n",
       "    }\n",
       "\n",
       "    .dataframe tbody tr th {\n",
       "        vertical-align: top;\n",
       "    }\n",
       "\n",
       "    .dataframe thead th {\n",
       "        text-align: right;\n",
       "    }\n",
       "</style>\n",
       "<table border=\"1\" class=\"dataframe\">\n",
       "  <thead>\n",
       "    <tr style=\"text-align: right;\">\n",
       "      <th></th>\n",
       "      <th>age</th>\n",
       "      <th>job</th>\n",
       "      <th>marital</th>\n",
       "      <th>education</th>\n",
       "      <th>default</th>\n",
       "      <th>balance</th>\n",
       "      <th>housing</th>\n",
       "      <th>loan</th>\n",
       "      <th>contact</th>\n",
       "      <th>day</th>\n",
       "      <th>month</th>\n",
       "      <th>duration</th>\n",
       "      <th>campaign</th>\n",
       "      <th>pdays</th>\n",
       "      <th>previous</th>\n",
       "      <th>poutcome</th>\n",
       "      <th>Target</th>\n",
       "    </tr>\n",
       "  </thead>\n",
       "  <tbody>\n",
       "    <tr>\n",
       "      <th>0</th>\n",
       "      <td>58</td>\n",
       "      <td>management</td>\n",
       "      <td>married</td>\n",
       "      <td>tertiary</td>\n",
       "      <td>no</td>\n",
       "      <td>2143</td>\n",
       "      <td>yes</td>\n",
       "      <td>no</td>\n",
       "      <td>unknown</td>\n",
       "      <td>5</td>\n",
       "      <td>may</td>\n",
       "      <td>261</td>\n",
       "      <td>1</td>\n",
       "      <td>-1</td>\n",
       "      <td>0</td>\n",
       "      <td>unknown</td>\n",
       "      <td>0</td>\n",
       "    </tr>\n",
       "    <tr>\n",
       "      <th>1</th>\n",
       "      <td>44</td>\n",
       "      <td>technician</td>\n",
       "      <td>single</td>\n",
       "      <td>secondary</td>\n",
       "      <td>no</td>\n",
       "      <td>29</td>\n",
       "      <td>yes</td>\n",
       "      <td>no</td>\n",
       "      <td>unknown</td>\n",
       "      <td>5</td>\n",
       "      <td>may</td>\n",
       "      <td>151</td>\n",
       "      <td>1</td>\n",
       "      <td>-1</td>\n",
       "      <td>0</td>\n",
       "      <td>unknown</td>\n",
       "      <td>0</td>\n",
       "    </tr>\n",
       "    <tr>\n",
       "      <th>2</th>\n",
       "      <td>33</td>\n",
       "      <td>entrepreneur</td>\n",
       "      <td>married</td>\n",
       "      <td>secondary</td>\n",
       "      <td>no</td>\n",
       "      <td>2</td>\n",
       "      <td>yes</td>\n",
       "      <td>yes</td>\n",
       "      <td>unknown</td>\n",
       "      <td>5</td>\n",
       "      <td>may</td>\n",
       "      <td>76</td>\n",
       "      <td>1</td>\n",
       "      <td>-1</td>\n",
       "      <td>0</td>\n",
       "      <td>unknown</td>\n",
       "      <td>0</td>\n",
       "    </tr>\n",
       "    <tr>\n",
       "      <th>3</th>\n",
       "      <td>47</td>\n",
       "      <td>blue-collar</td>\n",
       "      <td>married</td>\n",
       "      <td>unknown</td>\n",
       "      <td>no</td>\n",
       "      <td>1506</td>\n",
       "      <td>yes</td>\n",
       "      <td>no</td>\n",
       "      <td>unknown</td>\n",
       "      <td>5</td>\n",
       "      <td>may</td>\n",
       "      <td>92</td>\n",
       "      <td>1</td>\n",
       "      <td>-1</td>\n",
       "      <td>0</td>\n",
       "      <td>unknown</td>\n",
       "      <td>0</td>\n",
       "    </tr>\n",
       "    <tr>\n",
       "      <th>4</th>\n",
       "      <td>33</td>\n",
       "      <td>unknown</td>\n",
       "      <td>single</td>\n",
       "      <td>unknown</td>\n",
       "      <td>no</td>\n",
       "      <td>1</td>\n",
       "      <td>no</td>\n",
       "      <td>no</td>\n",
       "      <td>unknown</td>\n",
       "      <td>5</td>\n",
       "      <td>may</td>\n",
       "      <td>198</td>\n",
       "      <td>1</td>\n",
       "      <td>-1</td>\n",
       "      <td>0</td>\n",
       "      <td>unknown</td>\n",
       "      <td>0</td>\n",
       "    </tr>\n",
       "  </tbody>\n",
       "</table>\n",
       "</div>"
      ],
      "text/plain": [
       "   age           job  marital  education default  balance housing loan  \\\n",
       "0   58    management  married   tertiary      no     2143     yes   no   \n",
       "1   44    technician   single  secondary      no       29     yes   no   \n",
       "2   33  entrepreneur  married  secondary      no        2     yes  yes   \n",
       "3   47   blue-collar  married    unknown      no     1506     yes   no   \n",
       "4   33       unknown   single    unknown      no        1      no   no   \n",
       "\n",
       "   contact  day month  duration  campaign  pdays  previous poutcome  Target  \n",
       "0  unknown    5   may       261         1     -1         0  unknown       0  \n",
       "1  unknown    5   may       151         1     -1         0  unknown       0  \n",
       "2  unknown    5   may        76         1     -1         0  unknown       0  \n",
       "3  unknown    5   may        92         1     -1         0  unknown       0  \n",
       "4  unknown    5   may       198         1     -1         0  unknown       0  "
      ]
     },
     "execution_count": 9,
     "metadata": {},
     "output_type": "execute_result"
    }
   ],
   "source": [
    "df.head()"
   ]
  },
  {
   "cell_type": "code",
   "execution_count": 10,
   "id": "96f54853",
   "metadata": {},
   "outputs": [
    {
     "data": {
      "text/plain": [
       "Index(['age', 'job', 'marital', 'education', 'default', 'balance', 'housing',\n",
       "       'loan', 'contact', 'day', 'month', 'duration', 'campaign', 'pdays',\n",
       "       'previous', 'poutcome', 'Target'],\n",
       "      dtype='object')"
      ]
     },
     "execution_count": 10,
     "metadata": {},
     "output_type": "execute_result"
    }
   ],
   "source": [
    "df.columns"
   ]
  },
  {
   "cell_type": "code",
   "execution_count": 11,
   "id": "a2262c36",
   "metadata": {},
   "outputs": [
    {
     "name": "stdout",
     "output_type": "stream",
     "text": [
      "<class 'pandas.core.frame.DataFrame'>\n",
      "RangeIndex: 45211 entries, 0 to 45210\n",
      "Data columns (total 17 columns):\n",
      " #   Column     Non-Null Count  Dtype \n",
      "---  ------     --------------  ----- \n",
      " 0   age        45211 non-null  int64 \n",
      " 1   job        45211 non-null  object\n",
      " 2   marital    45211 non-null  object\n",
      " 3   education  45211 non-null  object\n",
      " 4   default    45211 non-null  object\n",
      " 5   balance    45211 non-null  int64 \n",
      " 6   housing    45211 non-null  object\n",
      " 7   loan       45211 non-null  object\n",
      " 8   contact    45211 non-null  object\n",
      " 9   day        45211 non-null  int64 \n",
      " 10  month      45211 non-null  object\n",
      " 11  duration   45211 non-null  int64 \n",
      " 12  campaign   45211 non-null  int64 \n",
      " 13  pdays      45211 non-null  int64 \n",
      " 14  previous   45211 non-null  int64 \n",
      " 15  poutcome   45211 non-null  object\n",
      " 16  Target     45211 non-null  int64 \n",
      "dtypes: int64(8), object(9)\n",
      "memory usage: 5.9+ MB\n"
     ]
    }
   ],
   "source": [
    "df.info()"
   ]
  },
  {
   "cell_type": "markdown",
   "id": "c0066abf",
   "metadata": {},
   "source": [
    "# EDA"
   ]
  },
  {
   "cell_type": "code",
   "execution_count": 12,
   "id": "49786bc6",
   "metadata": {},
   "outputs": [
    {
     "data": {
      "text/plain": [
       "<AxesSubplot:xlabel='Target', ylabel='count'>"
      ]
     },
     "execution_count": 12,
     "metadata": {},
     "output_type": "execute_result"
    },
    {
     "data": {
      "image/png": "[encoded data removed]",
      "text/plain": [
       "<Figure size 640x480 with 1 Axes>"
      ]
     },
     "metadata": {},
     "output_type": "display_data"
    }
   ],
   "source": [
    "sns.countplot(df['Target'])"
   ]
  },
  {
   "cell_type": "code",
   "execution_count": 13,
   "id": "9d2500bf",
   "metadata": {},
   "outputs": [
    {
     "data": {
      "text/plain": [
       "0    0.883015\n",
       "1    0.116985\n",
       "Name: Target, dtype: float64"
      ]
     },
     "execution_count": 13,
     "metadata": {},
     "output_type": "execute_result"
    }
   ],
   "source": [
    "df['Target'].value_counts(normalize=True)"
   ]
  },
  {
   "cell_type": "code",
   "execution_count": 14,
   "id": "40103755",
   "metadata": {},
   "outputs": [
    {
     "data": {
      "text/plain": [
       "blue-collar      9732\n",
       "management       9458\n",
       "technician       7597\n",
       "admin.           5171\n",
       "services         4154\n",
       "retired          2264\n",
       "self-employed    1579\n",
       "entrepreneur     1487\n",
       "unemployed       1303\n",
       "housemaid        1240\n",
       "student           938\n",
       "unknown           288\n",
       "Name: job, dtype: int64"
      ]
     },
     "execution_count": 14,
     "metadata": {},
     "output_type": "execute_result"
    }
   ],
   "source": [
    "df['job'].value_counts()"
   ]
  },
  {
   "cell_type": "code",
   "execution_count": 15,
   "id": "0bde9784",
   "metadata": {},
   "outputs": [
    {
     "data": {
      "text/plain": [
       "<AxesSubplot:>"
      ]
     },
     "execution_count": 15,
     "metadata": {},
     "output_type": "execute_result"
    },
    {
     "data": {
      "image/png": "[encoded data removed]",
      "text/plain": [
       "<Figure size 1000x600 with 1 Axes>"
      ]
     },
     "metadata": {},
     "output_type": "display_data"
    }
   ],
   "source": [
    "df['job'].value_counts().plot(kind='bar',figsize=(10,6))"
   ]
  },
  {
   "cell_type": "markdown",
   "id": "d2112c24",
   "metadata": {},
   "source": [
    "# Analysis of marital Status"
   ]
  },
  {
   "cell_type": "code",
   "execution_count": 16,
   "id": "6c699c19",
   "metadata": {},
   "outputs": [
    {
     "data": {
      "text/plain": [
       "married     27214\n",
       "single      12790\n",
       "divorced     5207\n",
       "Name: marital, dtype: int64"
      ]
     },
     "execution_count": 16,
     "metadata": {},
     "output_type": "execute_result"
    }
   ],
   "source": [
    "df['marital'].value_counts()"
   ]
  },
  {
   "cell_type": "code",
   "execution_count": 17,
   "id": "ad72e723",
   "metadata": {},
   "outputs": [
    {
     "data": {
      "text/plain": [
       "<AxesSubplot:xlabel='marital', ylabel='count'>"
      ]
     },
     "execution_count": 17,
     "metadata": {},
     "output_type": "execute_result"
    },
    {
     "data": {
      "image/png": "[encoded data removed]",
      "text/plain": [
       "<Figure size 640x480 with 1 Axes>"
      ]
     },
     "metadata": {},
     "output_type": "display_data"
    }
   ],
   "source": [
    "sns.countplot(df['marital'])"
   ]
  },
  {
   "cell_type": "code",
   "execution_count": 18,
   "id": "d672a580",
   "metadata": {},
   "outputs": [
    {
     "data": {
      "text/plain": [
       "<AxesSubplot:xlabel='marital', ylabel='count'>"
      ]
     },
     "execution_count": 18,
     "metadata": {},
     "output_type": "execute_result"
    },
    {
     "data": {
      "image/png": "[encoded data removed]",
      "text/plain": [
       "<Figure size 640x480 with 1 Axes>"
      ]
     },
     "metadata": {},
     "output_type": "display_data"
    }
   ],
   "source": [
    "sns.countplot(data=df,x='marital',hue='Target')"
   ]
  },
  {
   "cell_type": "markdown",
   "id": "a2f8fb4a",
   "metadata": {},
   "source": [
    "# Analysing age"
   ]
  },
  {
   "cell_type": "code",
   "execution_count": 19,
   "id": "237706e2",
   "metadata": {},
   "outputs": [
    {
     "data": {
      "text/plain": [
       "<AxesSubplot:xlabel='age', ylabel='Density'>"
      ]
     },
     "execution_count": 19,
     "metadata": {},
     "output_type": "execute_result"
    },
    {
     "data": {
      "image/png": "[encoded data removed]",
      "text/plain": [
       "<Figure size 640x480 with 1 Axes>"
      ]
     },
     "metadata": {},
     "output_type": "display_data"
    }
   ],
   "source": [
    "sns.distplot(df['age'])"
   ]
  },
  {
   "cell_type": "code",
   "execution_count": 20,
   "id": "8db6faea",
   "metadata": {},
   "outputs": [
    {
     "name": "stdout",
     "output_type": "stream",
     "text": [
      "Target            0     1\n",
      "job                      \n",
      "admin.         4540   631\n",
      "blue-collar    9024   708\n",
      "entrepreneur   1364   123\n",
      "housemaid      1131   109\n",
      "management     8157  1301\n",
      "retired        1748   516\n",
      "self-employed  1392   187\n",
      "services       3785   369\n",
      "student         669   269\n",
      "technician     6757   840\n",
      "unemployed     1101   202\n",
      "unknown         254    34\n"
     ]
    }
   ],
   "source": [
    "print(pd.crosstab(df['job'],df['Target']))"
   ]
  },
  {
   "cell_type": "code",
   "execution_count": 21,
   "id": "ab9c5da8",
   "metadata": {},
   "outputs": [],
   "source": [
    "job =pd.crosstab(df['job'],df['Target'])"
   ]
  },
  {
   "cell_type": "code",
   "execution_count": 22,
   "id": "692c0848",
   "metadata": {},
   "outputs": [
    {
     "data": {
      "text/plain": [
       "<AxesSubplot:xlabel='job'>"
      ]
     },
     "execution_count": 22,
     "metadata": {},
     "output_type": "execute_result"
    },
    {
     "data": {
      "image/png": "[encoded data removed]",
      "text/plain": [
       "<Figure size 1000x600 with 1 Axes>"
      ]
     },
     "metadata": {},
     "output_type": "display_data"
    }
   ],
   "source": [
    "job.plot.bar(stacked=True,figsize=(10,6))"
   ]
  },
  {
   "cell_type": "code",
   "execution_count": 23,
   "id": "a2188a94",
   "metadata": {},
   "outputs": [
    {
     "data": {
      "text/html": [
       "<div>\n",
       "<style scoped>\n",
       "    .dataframe tbody tr th:only-of-type {\n",
       "        vertical-align: middle;\n",
       "    }\n",
       "\n",
       "    .dataframe tbody tr th {\n",
       "        vertical-align: top;\n",
       "    }\n",
       "\n",
       "    .dataframe thead th {\n",
       "        text-align: right;\n",
       "    }\n",
       "</style>\n",
       "<table border=\"1\" class=\"dataframe\">\n",
       "  <thead>\n",
       "    <tr style=\"text-align: right;\">\n",
       "      <th>Target</th>\n",
       "      <th>0</th>\n",
       "      <th>1</th>\n",
       "    </tr>\n",
       "    <tr>\n",
       "      <th>marital</th>\n",
       "      <th></th>\n",
       "      <th></th>\n",
       "    </tr>\n",
       "  </thead>\n",
       "  <tbody>\n",
       "    <tr>\n",
       "      <th>divorced</th>\n",
       "      <td>4585</td>\n",
       "      <td>622</td>\n",
       "    </tr>\n",
       "    <tr>\n",
       "      <th>married</th>\n",
       "      <td>24459</td>\n",
       "      <td>2755</td>\n",
       "    </tr>\n",
       "    <tr>\n",
       "      <th>single</th>\n",
       "      <td>10878</td>\n",
       "      <td>1912</td>\n",
       "    </tr>\n",
       "  </tbody>\n",
       "</table>\n",
       "</div>"
      ],
      "text/plain": [
       "Target        0     1\n",
       "marital              \n",
       "divorced   4585   622\n",
       "married   24459  2755\n",
       "single    10878  1912"
      ]
     },
     "execution_count": 23,
     "metadata": {},
     "output_type": "execute_result"
    }
   ],
   "source": [
    "pd.crosstab(df['marital'],df['Target'])"
   ]
  },
  {
   "cell_type": "code",
   "execution_count": 24,
   "id": "f66f4419",
   "metadata": {},
   "outputs": [
    {
     "data": {
      "text/html": [
       "<div>\n",
       "<style scoped>\n",
       "    .dataframe tbody tr th:only-of-type {\n",
       "        vertical-align: middle;\n",
       "    }\n",
       "\n",
       "    .dataframe tbody tr th {\n",
       "        vertical-align: top;\n",
       "    }\n",
       "\n",
       "    .dataframe thead th {\n",
       "        text-align: right;\n",
       "    }\n",
       "</style>\n",
       "<table border=\"1\" class=\"dataframe\">\n",
       "  <thead>\n",
       "    <tr style=\"text-align: right;\">\n",
       "      <th>Target</th>\n",
       "      <th>0</th>\n",
       "      <th>1</th>\n",
       "    </tr>\n",
       "    <tr>\n",
       "      <th>default</th>\n",
       "      <th></th>\n",
       "      <th></th>\n",
       "    </tr>\n",
       "  </thead>\n",
       "  <tbody>\n",
       "    <tr>\n",
       "      <th>no</th>\n",
       "      <td>39159</td>\n",
       "      <td>5237</td>\n",
       "    </tr>\n",
       "    <tr>\n",
       "      <th>yes</th>\n",
       "      <td>763</td>\n",
       "      <td>52</td>\n",
       "    </tr>\n",
       "  </tbody>\n",
       "</table>\n",
       "</div>"
      ],
      "text/plain": [
       "Target       0     1\n",
       "default             \n",
       "no       39159  5237\n",
       "yes        763    52"
      ]
     },
     "execution_count": 24,
     "metadata": {},
     "output_type": "execute_result"
    }
   ],
   "source": [
    "pd.crosstab(df['default'],df['Target'])"
   ]
  },
  {
   "cell_type": "code",
   "execution_count": 25,
   "id": "a7852466",
   "metadata": {},
   "outputs": [
    {
     "data": {
      "text/html": [
       "<div>\n",
       "<style scoped>\n",
       "    .dataframe tbody tr th:only-of-type {\n",
       "        vertical-align: middle;\n",
       "    }\n",
       "\n",
       "    .dataframe tbody tr th {\n",
       "        vertical-align: top;\n",
       "    }\n",
       "\n",
       "    .dataframe thead th {\n",
       "        text-align: right;\n",
       "    }\n",
       "</style>\n",
       "<table border=\"1\" class=\"dataframe\">\n",
       "  <thead>\n",
       "    <tr style=\"text-align: right;\">\n",
       "      <th></th>\n",
       "      <th>age</th>\n",
       "      <th>balance</th>\n",
       "      <th>day</th>\n",
       "      <th>duration</th>\n",
       "      <th>campaign</th>\n",
       "      <th>pdays</th>\n",
       "      <th>previous</th>\n",
       "      <th>Target</th>\n",
       "    </tr>\n",
       "  </thead>\n",
       "  <tbody>\n",
       "    <tr>\n",
       "      <th>age</th>\n",
       "      <td>1.000000</td>\n",
       "      <td>0.097783</td>\n",
       "      <td>-0.009120</td>\n",
       "      <td>-0.004648</td>\n",
       "      <td>0.004760</td>\n",
       "      <td>-0.023758</td>\n",
       "      <td>0.001288</td>\n",
       "      <td>0.025155</td>\n",
       "    </tr>\n",
       "    <tr>\n",
       "      <th>balance</th>\n",
       "      <td>0.097783</td>\n",
       "      <td>1.000000</td>\n",
       "      <td>0.004503</td>\n",
       "      <td>0.021560</td>\n",
       "      <td>-0.014578</td>\n",
       "      <td>0.003435</td>\n",
       "      <td>0.016674</td>\n",
       "      <td>0.052838</td>\n",
       "    </tr>\n",
       "    <tr>\n",
       "      <th>day</th>\n",
       "      <td>-0.009120</td>\n",
       "      <td>0.004503</td>\n",
       "      <td>1.000000</td>\n",
       "      <td>-0.030206</td>\n",
       "      <td>0.162490</td>\n",
       "      <td>-0.093044</td>\n",
       "      <td>-0.051710</td>\n",
       "      <td>-0.028348</td>\n",
       "    </tr>\n",
       "    <tr>\n",
       "      <th>duration</th>\n",
       "      <td>-0.004648</td>\n",
       "      <td>0.021560</td>\n",
       "      <td>-0.030206</td>\n",
       "      <td>1.000000</td>\n",
       "      <td>-0.084570</td>\n",
       "      <td>-0.001565</td>\n",
       "      <td>0.001203</td>\n",
       "      <td>0.394521</td>\n",
       "    </tr>\n",
       "    <tr>\n",
       "      <th>campaign</th>\n",
       "      <td>0.004760</td>\n",
       "      <td>-0.014578</td>\n",
       "      <td>0.162490</td>\n",
       "      <td>-0.084570</td>\n",
       "      <td>1.000000</td>\n",
       "      <td>-0.088628</td>\n",
       "      <td>-0.032855</td>\n",
       "      <td>-0.073172</td>\n",
       "    </tr>\n",
       "    <tr>\n",
       "      <th>pdays</th>\n",
       "      <td>-0.023758</td>\n",
       "      <td>0.003435</td>\n",
       "      <td>-0.093044</td>\n",
       "      <td>-0.001565</td>\n",
       "      <td>-0.088628</td>\n",
       "      <td>1.000000</td>\n",
       "      <td>0.454820</td>\n",
       "      <td>0.103621</td>\n",
       "    </tr>\n",
       "    <tr>\n",
       "      <th>previous</th>\n",
       "      <td>0.001288</td>\n",
       "      <td>0.016674</td>\n",
       "      <td>-0.051710</td>\n",
       "      <td>0.001203</td>\n",
       "      <td>-0.032855</td>\n",
       "      <td>0.454820</td>\n",
       "      <td>1.000000</td>\n",
       "      <td>0.093236</td>\n",
       "    </tr>\n",
       "    <tr>\n",
       "      <th>Target</th>\n",
       "      <td>0.025155</td>\n",
       "      <td>0.052838</td>\n",
       "      <td>-0.028348</td>\n",
       "      <td>0.394521</td>\n",
       "      <td>-0.073172</td>\n",
       "      <td>0.103621</td>\n",
       "      <td>0.093236</td>\n",
       "      <td>1.000000</td>\n",
       "    </tr>\n",
       "  </tbody>\n",
       "</table>\n",
       "</div>"
      ],
      "text/plain": [
       "               age   balance       day  duration  campaign     pdays  \\\n",
       "age       1.000000  0.097783 -0.009120 -0.004648  0.004760 -0.023758   \n",
       "balance   0.097783  1.000000  0.004503  0.021560 -0.014578  0.003435   \n",
       "day      -0.009120  0.004503  1.000000 -0.030206  0.162490 -0.093044   \n",
       "duration -0.004648  0.021560 -0.030206  1.000000 -0.084570 -0.001565   \n",
       "campaign  0.004760 -0.014578  0.162490 -0.084570  1.000000 -0.088628   \n",
       "pdays    -0.023758  0.003435 -0.093044 -0.001565 -0.088628  1.000000   \n",
       "previous  0.001288  0.016674 -0.051710  0.001203 -0.032855  0.454820   \n",
       "Target    0.025155  0.052838 -0.028348  0.394521 -0.073172  0.103621   \n",
       "\n",
       "          previous    Target  \n",
       "age       0.001288  0.025155  \n",
       "balance   0.016674  0.052838  \n",
       "day      -0.051710 -0.028348  \n",
       "duration  0.001203  0.394521  \n",
       "campaign -0.032855 -0.073172  \n",
       "pdays     0.454820  0.103621  \n",
       "previous  1.000000  0.093236  \n",
       "Target    0.093236  1.000000  "
      ]
     },
     "execution_count": 25,
     "metadata": {},
     "output_type": "execute_result"
    }
   ],
   "source": [
    "df.corr()"
   ]
  },
  {
   "cell_type": "code",
   "execution_count": 26,
   "id": "77de948c",
   "metadata": {},
   "outputs": [
    {
     "data": {
      "text/plain": [
       "<AxesSubplot:>"
      ]
     },
     "execution_count": 26,
     "metadata": {},
     "output_type": "execute_result"
    },
    {
     "data": {
      "image/png": "[encoded data removed]",
      "text/plain": [
       "<Figure size 640x480 with 2 Axes>"
      ]
     },
     "metadata": {},
     "output_type": "display_data"
    }
   ],
   "source": [
    "sns.heatmap(df.corr(),vmax=1,vmin=-1,annot=True)"
   ]
  },
  {
   "cell_type": "markdown",
   "id": "49807773",
   "metadata": {},
   "source": [
    "# Model building"
   ]
  },
  {
   "cell_type": "code",
   "execution_count": 27,
   "id": "7bb94526",
   "metadata": {},
   "outputs": [],
   "source": [
    "categorical_col = ['job','marital','education','default','housing','loan','contact','month','poutcome']"
   ]
  },
  {
   "cell_type": "code",
   "execution_count": 28,
   "id": "699de2c2",
   "metadata": {},
   "outputs": [],
   "source": [
    "df = pd.get_dummies(df,columns=categorical_col,drop_first=True)"
   ]
  },
  {
   "cell_type": "code",
   "execution_count": 29,
   "id": "feccfc2f",
   "metadata": {},
   "outputs": [],
   "source": [
    "x = df.iloc[:,:-1]\n",
    "y = df['Target']"
   ]
  },
  {
   "cell_type": "code",
   "execution_count": 51,
   "id": "c1e67c66",
   "metadata": {},
   "outputs": [],
   "source": [
    "xtrain,xtest,ytrain,ytest = train_test_split(x,y,test_size=0.25,random_state=77)"
   ]
  },
  {
   "cell_type": "code",
   "execution_count": 52,
   "id": "7b1e58ab",
   "metadata": {},
   "outputs": [
    {
     "data": {
      "text/html": [
       "<div>\n",
       "<style scoped>\n",
       "    .dataframe tbody tr th:only-of-type {\n",
       "        vertical-align: middle;\n",
       "    }\n",
       "\n",
       "    .dataframe tbody tr th {\n",
       "        vertical-align: top;\n",
       "    }\n",
       "\n",
       "    .dataframe thead th {\n",
       "        text-align: right;\n",
       "    }\n",
       "</style>\n",
       "<table border=\"1\" class=\"dataframe\">\n",
       "  <thead>\n",
       "    <tr style=\"text-align: right;\">\n",
       "      <th></th>\n",
       "      <th>age</th>\n",
       "      <th>balance</th>\n",
       "      <th>day</th>\n",
       "      <th>duration</th>\n",
       "      <th>campaign</th>\n",
       "      <th>pdays</th>\n",
       "      <th>previous</th>\n",
       "      <th>Target</th>\n",
       "      <th>job_blue-collar</th>\n",
       "      <th>job_entrepreneur</th>\n",
       "      <th>...</th>\n",
       "      <th>month_jan</th>\n",
       "      <th>month_jul</th>\n",
       "      <th>month_jun</th>\n",
       "      <th>month_mar</th>\n",
       "      <th>month_may</th>\n",
       "      <th>month_nov</th>\n",
       "      <th>month_oct</th>\n",
       "      <th>month_sep</th>\n",
       "      <th>poutcome_other</th>\n",
       "      <th>poutcome_success</th>\n",
       "    </tr>\n",
       "  </thead>\n",
       "  <tbody>\n",
       "    <tr>\n",
       "      <th>38836</th>\n",
       "      <td>34</td>\n",
       "      <td>464</td>\n",
       "      <td>18</td>\n",
       "      <td>173</td>\n",
       "      <td>1</td>\n",
       "      <td>299</td>\n",
       "      <td>2</td>\n",
       "      <td>0</td>\n",
       "      <td>1</td>\n",
       "      <td>0</td>\n",
       "      <td>...</td>\n",
       "      <td>0</td>\n",
       "      <td>0</td>\n",
       "      <td>0</td>\n",
       "      <td>0</td>\n",
       "      <td>1</td>\n",
       "      <td>0</td>\n",
       "      <td>0</td>\n",
       "      <td>0</td>\n",
       "      <td>1</td>\n",
       "      <td>0</td>\n",
       "    </tr>\n",
       "    <tr>\n",
       "      <th>14407</th>\n",
       "      <td>35</td>\n",
       "      <td>0</td>\n",
       "      <td>14</td>\n",
       "      <td>245</td>\n",
       "      <td>2</td>\n",
       "      <td>-1</td>\n",
       "      <td>0</td>\n",
       "      <td>0</td>\n",
       "      <td>0</td>\n",
       "      <td>0</td>\n",
       "      <td>...</td>\n",
       "      <td>0</td>\n",
       "      <td>1</td>\n",
       "      <td>0</td>\n",
       "      <td>0</td>\n",
       "      <td>0</td>\n",
       "      <td>0</td>\n",
       "      <td>0</td>\n",
       "      <td>0</td>\n",
       "      <td>0</td>\n",
       "      <td>0</td>\n",
       "    </tr>\n",
       "    <tr>\n",
       "      <th>12521</th>\n",
       "      <td>27</td>\n",
       "      <td>585</td>\n",
       "      <td>3</td>\n",
       "      <td>269</td>\n",
       "      <td>3</td>\n",
       "      <td>-1</td>\n",
       "      <td>0</td>\n",
       "      <td>0</td>\n",
       "      <td>0</td>\n",
       "      <td>0</td>\n",
       "      <td>...</td>\n",
       "      <td>0</td>\n",
       "      <td>1</td>\n",
       "      <td>0</td>\n",
       "      <td>0</td>\n",
       "      <td>0</td>\n",
       "      <td>0</td>\n",
       "      <td>0</td>\n",
       "      <td>0</td>\n",
       "      <td>0</td>\n",
       "      <td>0</td>\n",
       "    </tr>\n",
       "    <tr>\n",
       "      <th>38934</th>\n",
       "      <td>24</td>\n",
       "      <td>414</td>\n",
       "      <td>18</td>\n",
       "      <td>493</td>\n",
       "      <td>1</td>\n",
       "      <td>370</td>\n",
       "      <td>1</td>\n",
       "      <td>1</td>\n",
       "      <td>0</td>\n",
       "      <td>0</td>\n",
       "      <td>...</td>\n",
       "      <td>0</td>\n",
       "      <td>0</td>\n",
       "      <td>0</td>\n",
       "      <td>0</td>\n",
       "      <td>1</td>\n",
       "      <td>0</td>\n",
       "      <td>0</td>\n",
       "      <td>0</td>\n",
       "      <td>1</td>\n",
       "      <td>0</td>\n",
       "    </tr>\n",
       "    <tr>\n",
       "      <th>38724</th>\n",
       "      <td>33</td>\n",
       "      <td>577</td>\n",
       "      <td>15</td>\n",
       "      <td>59</td>\n",
       "      <td>4</td>\n",
       "      <td>-1</td>\n",
       "      <td>0</td>\n",
       "      <td>0</td>\n",
       "      <td>1</td>\n",
       "      <td>0</td>\n",
       "      <td>...</td>\n",
       "      <td>0</td>\n",
       "      <td>0</td>\n",
       "      <td>0</td>\n",
       "      <td>0</td>\n",
       "      <td>1</td>\n",
       "      <td>0</td>\n",
       "      <td>0</td>\n",
       "      <td>0</td>\n",
       "      <td>0</td>\n",
       "      <td>0</td>\n",
       "    </tr>\n",
       "    <tr>\n",
       "      <th>...</th>\n",
       "      <td>...</td>\n",
       "      <td>...</td>\n",
       "      <td>...</td>\n",
       "      <td>...</td>\n",
       "      <td>...</td>\n",
       "      <td>...</td>\n",
       "      <td>...</td>\n",
       "      <td>...</td>\n",
       "      <td>...</td>\n",
       "      <td>...</td>\n",
       "      <td>...</td>\n",
       "      <td>...</td>\n",
       "      <td>...</td>\n",
       "      <td>...</td>\n",
       "      <td>...</td>\n",
       "      <td>...</td>\n",
       "      <td>...</td>\n",
       "      <td>...</td>\n",
       "      <td>...</td>\n",
       "      <td>...</td>\n",
       "      <td>...</td>\n",
       "    </tr>\n",
       "    <tr>\n",
       "      <th>25503</th>\n",
       "      <td>54</td>\n",
       "      <td>6525</td>\n",
       "      <td>19</td>\n",
       "      <td>133</td>\n",
       "      <td>1</td>\n",
       "      <td>170</td>\n",
       "      <td>3</td>\n",
       "      <td>0</td>\n",
       "      <td>0</td>\n",
       "      <td>0</td>\n",
       "      <td>...</td>\n",
       "      <td>0</td>\n",
       "      <td>0</td>\n",
       "      <td>0</td>\n",
       "      <td>0</td>\n",
       "      <td>0</td>\n",
       "      <td>1</td>\n",
       "      <td>0</td>\n",
       "      <td>0</td>\n",
       "      <td>0</td>\n",
       "      <td>0</td>\n",
       "    </tr>\n",
       "    <tr>\n",
       "      <th>7832</th>\n",
       "      <td>47</td>\n",
       "      <td>1387</td>\n",
       "      <td>30</td>\n",
       "      <td>219</td>\n",
       "      <td>4</td>\n",
       "      <td>-1</td>\n",
       "      <td>0</td>\n",
       "      <td>0</td>\n",
       "      <td>0</td>\n",
       "      <td>0</td>\n",
       "      <td>...</td>\n",
       "      <td>0</td>\n",
       "      <td>0</td>\n",
       "      <td>0</td>\n",
       "      <td>0</td>\n",
       "      <td>1</td>\n",
       "      <td>0</td>\n",
       "      <td>0</td>\n",
       "      <td>0</td>\n",
       "      <td>0</td>\n",
       "      <td>0</td>\n",
       "    </tr>\n",
       "    <tr>\n",
       "      <th>42277</th>\n",
       "      <td>44</td>\n",
       "      <td>14</td>\n",
       "      <td>13</td>\n",
       "      <td>167</td>\n",
       "      <td>1</td>\n",
       "      <td>92</td>\n",
       "      <td>1</td>\n",
       "      <td>1</td>\n",
       "      <td>0</td>\n",
       "      <td>0</td>\n",
       "      <td>...</td>\n",
       "      <td>0</td>\n",
       "      <td>0</td>\n",
       "      <td>0</td>\n",
       "      <td>0</td>\n",
       "      <td>0</td>\n",
       "      <td>1</td>\n",
       "      <td>0</td>\n",
       "      <td>0</td>\n",
       "      <td>0</td>\n",
       "      <td>1</td>\n",
       "    </tr>\n",
       "    <tr>\n",
       "      <th>18667</th>\n",
       "      <td>36</td>\n",
       "      <td>62</td>\n",
       "      <td>31</td>\n",
       "      <td>43</td>\n",
       "      <td>34</td>\n",
       "      <td>-1</td>\n",
       "      <td>0</td>\n",
       "      <td>0</td>\n",
       "      <td>0</td>\n",
       "      <td>0</td>\n",
       "      <td>...</td>\n",
       "      <td>0</td>\n",
       "      <td>1</td>\n",
       "      <td>0</td>\n",
       "      <td>0</td>\n",
       "      <td>0</td>\n",
       "      <td>0</td>\n",
       "      <td>0</td>\n",
       "      <td>0</td>\n",
       "      <td>0</td>\n",
       "      <td>0</td>\n",
       "    </tr>\n",
       "    <tr>\n",
       "      <th>8799</th>\n",
       "      <td>33</td>\n",
       "      <td>355</td>\n",
       "      <td>4</td>\n",
       "      <td>87</td>\n",
       "      <td>3</td>\n",
       "      <td>-1</td>\n",
       "      <td>0</td>\n",
       "      <td>0</td>\n",
       "      <td>1</td>\n",
       "      <td>0</td>\n",
       "      <td>...</td>\n",
       "      <td>0</td>\n",
       "      <td>0</td>\n",
       "      <td>1</td>\n",
       "      <td>0</td>\n",
       "      <td>0</td>\n",
       "      <td>0</td>\n",
       "      <td>0</td>\n",
       "      <td>0</td>\n",
       "      <td>0</td>\n",
       "      <td>0</td>\n",
       "    </tr>\n",
       "  </tbody>\n",
       "</table>\n",
       "<p>33908 rows × 42 columns</p>\n",
       "</div>"
      ],
      "text/plain": [
       "       age  balance  day  duration  campaign  pdays  previous  Target  \\\n",
       "38836   34      464   18       173         1    299         2       0   \n",
       "14407   35        0   14       245         2     -1         0       0   \n",
       "12521   27      585    3       269         3     -1         0       0   \n",
       "38934   24      414   18       493         1    370         1       1   \n",
       "38724   33      577   15        59         4     -1         0       0   \n",
       "...    ...      ...  ...       ...       ...    ...       ...     ...   \n",
       "25503   54     6525   19       133         1    170         3       0   \n",
       "7832    47     1387   30       219         4     -1         0       0   \n",
       "42277   44       14   13       167         1     92         1       1   \n",
       "18667   36       62   31        43        34     -1         0       0   \n",
       "8799    33      355    4        87         3     -1         0       0   \n",
       "\n",
       "       job_blue-collar  job_entrepreneur  ...  month_jan  month_jul  \\\n",
       "38836                1                 0  ...          0          0   \n",
       "14407                0                 0  ...          0          1   \n",
       "12521                0                 0  ...          0          1   \n",
       "38934                0                 0  ...          0          0   \n",
       "38724                1                 0  ...          0          0   \n",
       "...                ...               ...  ...        ...        ...   \n",
       "25503                0                 0  ...          0          0   \n",
       "7832                 0                 0  ...          0          0   \n",
       "42277                0                 0  ...          0          0   \n",
       "18667                0                 0  ...          0          1   \n",
       "8799                 1                 0  ...          0          0   \n",
       "\n",
       "       month_jun  month_mar  month_may  month_nov  month_oct  month_sep  \\\n",
       "38836          0          0          1          0          0          0   \n",
       "14407          0          0          0          0          0          0   \n",
       "12521          0          0          0          0          0          0   \n",
       "38934          0          0          1          0          0          0   \n",
       "38724          0          0          1          0          0          0   \n",
       "...          ...        ...        ...        ...        ...        ...   \n",
       "25503          0          0          0          1          0          0   \n",
       "7832           0          0          1          0          0          0   \n",
       "42277          0          0          0          1          0          0   \n",
       "18667          0          0          0          0          0          0   \n",
       "8799           1          0          0          0          0          0   \n",
       "\n",
       "       poutcome_other  poutcome_success  \n",
       "38836               1                 0  \n",
       "14407               0                 0  \n",
       "12521               0                 0  \n",
       "38934               1                 0  \n",
       "38724               0                 0  \n",
       "...               ...               ...  \n",
       "25503               0                 0  \n",
       "7832                0                 0  \n",
       "42277               0                 1  \n",
       "18667               0                 0  \n",
       "8799                0                 0  \n",
       "\n",
       "[33908 rows x 42 columns]"
      ]
     },
     "execution_count": 52,
     "metadata": {},
     "output_type": "execute_result"
    }
   ],
   "source": [
    "xtrain"
   ]
  },
  {
   "cell_type": "code",
   "execution_count": 53,
   "id": "d6681e42",
   "metadata": {},
   "outputs": [
    {
     "data": {
      "text/plain": [
       "array([0, 1], dtype=int64)"
      ]
     },
     "execution_count": 53,
     "metadata": {},
     "output_type": "execute_result"
    }
   ],
   "source": [
    "ytrain.unique()"
   ]
  },
  {
   "cell_type": "code",
   "execution_count": 54,
   "id": "86093bf1",
   "metadata": {},
   "outputs": [
    {
     "data": {
      "text/plain": [
       "38836    0\n",
       "14407    0\n",
       "12521    0\n",
       "38934    1\n",
       "38724    0\n",
       "        ..\n",
       "25503    0\n",
       "7832     0\n",
       "42277    1\n",
       "18667    0\n",
       "8799     0\n",
       "Name: Target, Length: 33908, dtype: int64"
      ]
     },
     "execution_count": 54,
     "metadata": {},
     "output_type": "execute_result"
    }
   ],
   "source": [
    "ytrain"
   ]
  },
  {
   "cell_type": "code",
   "execution_count": 55,
   "id": "84f5173c",
   "metadata": {},
   "outputs": [
    {
     "data": {
      "text/html": [
       "<div>\n",
       "<style scoped>\n",
       "    .dataframe tbody tr th:only-of-type {\n",
       "        vertical-align: middle;\n",
       "    }\n",
       "\n",
       "    .dataframe tbody tr th {\n",
       "        vertical-align: top;\n",
       "    }\n",
       "\n",
       "    .dataframe thead th {\n",
       "        text-align: right;\n",
       "    }\n",
       "</style>\n",
       "<table border=\"1\" class=\"dataframe\">\n",
       "  <thead>\n",
       "    <tr style=\"text-align: right;\">\n",
       "      <th></th>\n",
       "      <th>age</th>\n",
       "      <th>balance</th>\n",
       "      <th>day</th>\n",
       "      <th>duration</th>\n",
       "      <th>campaign</th>\n",
       "      <th>pdays</th>\n",
       "      <th>previous</th>\n",
       "      <th>Target</th>\n",
       "      <th>job_blue-collar</th>\n",
       "      <th>job_entrepreneur</th>\n",
       "      <th>...</th>\n",
       "      <th>month_jan</th>\n",
       "      <th>month_jul</th>\n",
       "      <th>month_jun</th>\n",
       "      <th>month_mar</th>\n",
       "      <th>month_may</th>\n",
       "      <th>month_nov</th>\n",
       "      <th>month_oct</th>\n",
       "      <th>month_sep</th>\n",
       "      <th>poutcome_other</th>\n",
       "      <th>poutcome_success</th>\n",
       "    </tr>\n",
       "  </thead>\n",
       "  <tbody>\n",
       "    <tr>\n",
       "      <th>26846</th>\n",
       "      <td>56</td>\n",
       "      <td>1437</td>\n",
       "      <td>20</td>\n",
       "      <td>367</td>\n",
       "      <td>8</td>\n",
       "      <td>-1</td>\n",
       "      <td>0</td>\n",
       "      <td>0</td>\n",
       "      <td>0</td>\n",
       "      <td>0</td>\n",
       "      <td>...</td>\n",
       "      <td>0</td>\n",
       "      <td>0</td>\n",
       "      <td>0</td>\n",
       "      <td>0</td>\n",
       "      <td>0</td>\n",
       "      <td>1</td>\n",
       "      <td>0</td>\n",
       "      <td>0</td>\n",
       "      <td>0</td>\n",
       "      <td>0</td>\n",
       "    </tr>\n",
       "    <tr>\n",
       "      <th>3661</th>\n",
       "      <td>31</td>\n",
       "      <td>0</td>\n",
       "      <td>16</td>\n",
       "      <td>28</td>\n",
       "      <td>4</td>\n",
       "      <td>-1</td>\n",
       "      <td>0</td>\n",
       "      <td>0</td>\n",
       "      <td>0</td>\n",
       "      <td>0</td>\n",
       "      <td>...</td>\n",
       "      <td>0</td>\n",
       "      <td>0</td>\n",
       "      <td>0</td>\n",
       "      <td>0</td>\n",
       "      <td>1</td>\n",
       "      <td>0</td>\n",
       "      <td>0</td>\n",
       "      <td>0</td>\n",
       "      <td>0</td>\n",
       "      <td>0</td>\n",
       "    </tr>\n",
       "    <tr>\n",
       "      <th>17740</th>\n",
       "      <td>40</td>\n",
       "      <td>6</td>\n",
       "      <td>29</td>\n",
       "      <td>64</td>\n",
       "      <td>4</td>\n",
       "      <td>-1</td>\n",
       "      <td>0</td>\n",
       "      <td>0</td>\n",
       "      <td>0</td>\n",
       "      <td>0</td>\n",
       "      <td>...</td>\n",
       "      <td>0</td>\n",
       "      <td>1</td>\n",
       "      <td>0</td>\n",
       "      <td>0</td>\n",
       "      <td>0</td>\n",
       "      <td>0</td>\n",
       "      <td>0</td>\n",
       "      <td>0</td>\n",
       "      <td>0</td>\n",
       "      <td>0</td>\n",
       "    </tr>\n",
       "    <tr>\n",
       "      <th>2002</th>\n",
       "      <td>35</td>\n",
       "      <td>123</td>\n",
       "      <td>9</td>\n",
       "      <td>83</td>\n",
       "      <td>3</td>\n",
       "      <td>-1</td>\n",
       "      <td>0</td>\n",
       "      <td>0</td>\n",
       "      <td>0</td>\n",
       "      <td>0</td>\n",
       "      <td>...</td>\n",
       "      <td>0</td>\n",
       "      <td>0</td>\n",
       "      <td>0</td>\n",
       "      <td>0</td>\n",
       "      <td>1</td>\n",
       "      <td>0</td>\n",
       "      <td>0</td>\n",
       "      <td>0</td>\n",
       "      <td>0</td>\n",
       "      <td>0</td>\n",
       "    </tr>\n",
       "    <tr>\n",
       "      <th>10083</th>\n",
       "      <td>40</td>\n",
       "      <td>1967</td>\n",
       "      <td>11</td>\n",
       "      <td>363</td>\n",
       "      <td>1</td>\n",
       "      <td>-1</td>\n",
       "      <td>0</td>\n",
       "      <td>0</td>\n",
       "      <td>0</td>\n",
       "      <td>0</td>\n",
       "      <td>...</td>\n",
       "      <td>0</td>\n",
       "      <td>0</td>\n",
       "      <td>1</td>\n",
       "      <td>0</td>\n",
       "      <td>0</td>\n",
       "      <td>0</td>\n",
       "      <td>0</td>\n",
       "      <td>0</td>\n",
       "      <td>0</td>\n",
       "      <td>0</td>\n",
       "    </tr>\n",
       "    <tr>\n",
       "      <th>...</th>\n",
       "      <td>...</td>\n",
       "      <td>...</td>\n",
       "      <td>...</td>\n",
       "      <td>...</td>\n",
       "      <td>...</td>\n",
       "      <td>...</td>\n",
       "      <td>...</td>\n",
       "      <td>...</td>\n",
       "      <td>...</td>\n",
       "      <td>...</td>\n",
       "      <td>...</td>\n",
       "      <td>...</td>\n",
       "      <td>...</td>\n",
       "      <td>...</td>\n",
       "      <td>...</td>\n",
       "      <td>...</td>\n",
       "      <td>...</td>\n",
       "      <td>...</td>\n",
       "      <td>...</td>\n",
       "      <td>...</td>\n",
       "      <td>...</td>\n",
       "    </tr>\n",
       "    <tr>\n",
       "      <th>2075</th>\n",
       "      <td>59</td>\n",
       "      <td>121</td>\n",
       "      <td>12</td>\n",
       "      <td>144</td>\n",
       "      <td>7</td>\n",
       "      <td>-1</td>\n",
       "      <td>0</td>\n",
       "      <td>0</td>\n",
       "      <td>0</td>\n",
       "      <td>0</td>\n",
       "      <td>...</td>\n",
       "      <td>0</td>\n",
       "      <td>0</td>\n",
       "      <td>0</td>\n",
       "      <td>0</td>\n",
       "      <td>1</td>\n",
       "      <td>0</td>\n",
       "      <td>0</td>\n",
       "      <td>0</td>\n",
       "      <td>0</td>\n",
       "      <td>0</td>\n",
       "    </tr>\n",
       "    <tr>\n",
       "      <th>3883</th>\n",
       "      <td>53</td>\n",
       "      <td>31</td>\n",
       "      <td>16</td>\n",
       "      <td>90</td>\n",
       "      <td>2</td>\n",
       "      <td>-1</td>\n",
       "      <td>0</td>\n",
       "      <td>0</td>\n",
       "      <td>0</td>\n",
       "      <td>0</td>\n",
       "      <td>...</td>\n",
       "      <td>0</td>\n",
       "      <td>0</td>\n",
       "      <td>0</td>\n",
       "      <td>0</td>\n",
       "      <td>1</td>\n",
       "      <td>0</td>\n",
       "      <td>0</td>\n",
       "      <td>0</td>\n",
       "      <td>0</td>\n",
       "      <td>0</td>\n",
       "    </tr>\n",
       "    <tr>\n",
       "      <th>26810</th>\n",
       "      <td>46</td>\n",
       "      <td>778</td>\n",
       "      <td>20</td>\n",
       "      <td>106</td>\n",
       "      <td>3</td>\n",
       "      <td>-1</td>\n",
       "      <td>0</td>\n",
       "      <td>0</td>\n",
       "      <td>0</td>\n",
       "      <td>0</td>\n",
       "      <td>...</td>\n",
       "      <td>0</td>\n",
       "      <td>0</td>\n",
       "      <td>0</td>\n",
       "      <td>0</td>\n",
       "      <td>0</td>\n",
       "      <td>1</td>\n",
       "      <td>0</td>\n",
       "      <td>0</td>\n",
       "      <td>0</td>\n",
       "      <td>0</td>\n",
       "    </tr>\n",
       "    <tr>\n",
       "      <th>18420</th>\n",
       "      <td>40</td>\n",
       "      <td>296</td>\n",
       "      <td>31</td>\n",
       "      <td>253</td>\n",
       "      <td>2</td>\n",
       "      <td>-1</td>\n",
       "      <td>0</td>\n",
       "      <td>0</td>\n",
       "      <td>0</td>\n",
       "      <td>0</td>\n",
       "      <td>...</td>\n",
       "      <td>0</td>\n",
       "      <td>1</td>\n",
       "      <td>0</td>\n",
       "      <td>0</td>\n",
       "      <td>0</td>\n",
       "      <td>0</td>\n",
       "      <td>0</td>\n",
       "      <td>0</td>\n",
       "      <td>0</td>\n",
       "      <td>0</td>\n",
       "    </tr>\n",
       "    <tr>\n",
       "      <th>30624</th>\n",
       "      <td>29</td>\n",
       "      <td>269</td>\n",
       "      <td>6</td>\n",
       "      <td>40</td>\n",
       "      <td>1</td>\n",
       "      <td>-1</td>\n",
       "      <td>0</td>\n",
       "      <td>0</td>\n",
       "      <td>1</td>\n",
       "      <td>0</td>\n",
       "      <td>...</td>\n",
       "      <td>0</td>\n",
       "      <td>0</td>\n",
       "      <td>0</td>\n",
       "      <td>0</td>\n",
       "      <td>0</td>\n",
       "      <td>0</td>\n",
       "      <td>0</td>\n",
       "      <td>0</td>\n",
       "      <td>0</td>\n",
       "      <td>0</td>\n",
       "    </tr>\n",
       "  </tbody>\n",
       "</table>\n",
       "<p>11303 rows × 42 columns</p>\n",
       "</div>"
      ],
      "text/plain": [
       "       age  balance  day  duration  campaign  pdays  previous  Target  \\\n",
       "26846   56     1437   20       367         8     -1         0       0   \n",
       "3661    31        0   16        28         4     -1         0       0   \n",
       "17740   40        6   29        64         4     -1         0       0   \n",
       "2002    35      123    9        83         3     -1         0       0   \n",
       "10083   40     1967   11       363         1     -1         0       0   \n",
       "...    ...      ...  ...       ...       ...    ...       ...     ...   \n",
       "2075    59      121   12       144         7     -1         0       0   \n",
       "3883    53       31   16        90         2     -1         0       0   \n",
       "26810   46      778   20       106         3     -1         0       0   \n",
       "18420   40      296   31       253         2     -1         0       0   \n",
       "30624   29      269    6        40         1     -1         0       0   \n",
       "\n",
       "       job_blue-collar  job_entrepreneur  ...  month_jan  month_jul  \\\n",
       "26846                0                 0  ...          0          0   \n",
       "3661                 0                 0  ...          0          0   \n",
       "17740                0                 0  ...          0          1   \n",
       "2002                 0                 0  ...          0          0   \n",
       "10083                0                 0  ...          0          0   \n",
       "...                ...               ...  ...        ...        ...   \n",
       "2075                 0                 0  ...          0          0   \n",
       "3883                 0                 0  ...          0          0   \n",
       "26810                0                 0  ...          0          0   \n",
       "18420                0                 0  ...          0          1   \n",
       "30624                1                 0  ...          0          0   \n",
       "\n",
       "       month_jun  month_mar  month_may  month_nov  month_oct  month_sep  \\\n",
       "26846          0          0          0          1          0          0   \n",
       "3661           0          0          1          0          0          0   \n",
       "17740          0          0          0          0          0          0   \n",
       "2002           0          0          1          0          0          0   \n",
       "10083          1          0          0          0          0          0   \n",
       "...          ...        ...        ...        ...        ...        ...   \n",
       "2075           0          0          1          0          0          0   \n",
       "3883           0          0          1          0          0          0   \n",
       "26810          0          0          0          1          0          0   \n",
       "18420          0          0          0          0          0          0   \n",
       "30624          0          0          0          0          0          0   \n",
       "\n",
       "       poutcome_other  poutcome_success  \n",
       "26846               0                 0  \n",
       "3661                0                 0  \n",
       "17740               0                 0  \n",
       "2002                0                 0  \n",
       "10083               0                 0  \n",
       "...               ...               ...  \n",
       "2075                0                 0  \n",
       "3883                0                 0  \n",
       "26810               0                 0  \n",
       "18420               0                 0  \n",
       "30624               0                 0  \n",
       "\n",
       "[11303 rows x 42 columns]"
      ]
     },
     "execution_count": 55,
     "metadata": {},
     "output_type": "execute_result"
    }
   ],
   "source": [
    "xtest"
   ]
  },
  {
   "cell_type": "code",
   "execution_count": 62,
   "id": "5e4ac20e",
   "metadata": {},
   "outputs": [
    {
     "data": {
      "text/plain": [
       "LogisticRegression()"
      ]
     },
     "execution_count": 62,
     "metadata": {},
     "output_type": "execute_result"
    }
   ],
   "source": [
    "lg = LogisticRegression()\n",
    "lg.fit(xtrain,ytrain)\n"
   ]
  },
  {
   "cell_type": "code",
   "execution_count": 65,
   "id": "f852c357",
   "metadata": {},
   "outputs": [],
   "source": [
    "ypred = lg.predict(xtest)"
   ]
  },
  {
   "cell_type": "code",
   "execution_count": 66,
   "id": "b81fa278",
   "metadata": {},
   "outputs": [
    {
     "data": {
      "text/plain": [
       "array([0, 0, 0, ..., 0, 0, 0], dtype=int64)"
      ]
     },
     "execution_count": 66,
     "metadata": {},
     "output_type": "execute_result"
    }
   ],
   "source": [
    "ypred"
   ]
  },
  {
   "cell_type": "code",
   "execution_count": 64,
   "id": "4d4a69eb",
   "metadata": {},
   "outputs": [
    {
     "data": {
      "text/plain": [
       "(0.9668514804765836, 0.9673537998761391)"
      ]
     },
     "execution_count": 64,
     "metadata": {},
     "output_type": "execute_result"
    }
   ],
   "source": [
    "lg.score(xtrain,ytrain),lg.score(xtest,ytest)"
   ]
  },
  {
   "cell_type": "markdown",
   "id": "07cc5a05",
   "metadata": {},
   "source": [
    "- training accuracy is 0.9668514804765836, and testing accuracy is 0.9673537998761391 ,so we acn say that ist is generalised model."
   ]
  },
  {
   "cell_type": "code",
   "execution_count": 67,
   "id": "d93efce1",
   "metadata": {},
   "outputs": [],
   "source": [
    "from sklearn.metrics import classification_report,confusion_matrix,accuracy_score"
   ]
  },
  {
   "cell_type": "code",
   "execution_count": 68,
   "id": "5c390f16",
   "metadata": {},
   "outputs": [
    {
     "name": "stdout",
     "output_type": "stream",
     "text": [
      "              precision    recall  f1-score   support\n",
      "\n",
      "           0       0.97      0.99      0.98     10003\n",
      "           1       0.92      0.78      0.85      1300\n",
      "\n",
      "    accuracy                           0.97     11303\n",
      "   macro avg       0.95      0.89      0.91     11303\n",
      "weighted avg       0.97      0.97      0.97     11303\n",
      "\n"
     ]
    }
   ],
   "source": [
    "print(classification_report(ytest,ypred))"
   ]
  },
  {
   "cell_type": "code",
   "execution_count": 69,
   "id": "b8d8bf6e",
   "metadata": {},
   "outputs": [
    {
     "data": {
      "text/plain": [
       "11303"
      ]
     },
     "execution_count": 69,
     "metadata": {},
     "output_type": "execute_result"
    }
   ],
   "source": [
    "len(xtest)\n",
    "len(ypred)"
   ]
  },
  {
   "cell_type": "markdown",
   "id": "a4a0f0ff",
   "metadata": {},
   "source": [
    "# Model Evaluation"
   ]
  },
  {
   "cell_type": "code",
   "execution_count": 72,
   "id": "f30036b3",
   "metadata": {},
   "outputs": [
    {
     "name": "stdout",
     "output_type": "stream",
     "text": [
      "Actual Y: [0 0 0 0 0 0 0 0 0 0 0 0 0 0 0 0 0 0 0 0 0 0 1 0 0]\n",
      "predict Y: [0 0 0 0 0 0 0 0 0 0 0 0 0 0 0 0 0 0 0 0 0 0 1 0 0]\n"
     ]
    }
   ],
   "source": [
    "print('Actual Y:',ytest[:25].values)\n",
    "print('predict Y:',ypred[:25])"
   ]
  },
  {
   "cell_type": "code",
   "execution_count": 73,
   "id": "4a4fb2d3",
   "metadata": {},
   "outputs": [
    {
     "data": {
      "text/plain": [
       "array([[9915,   88],\n",
       "       [ 281, 1019]], dtype=int64)"
      ]
     },
     "execution_count": 73,
     "metadata": {},
     "output_type": "execute_result"
    }
   ],
   "source": [
    "confusion_matrix(ytest,ypred)"
   ]
  },
  {
   "cell_type": "code",
   "execution_count": 74,
   "id": "81c7e3e9",
   "metadata": {},
   "outputs": [
    {
     "data": {
      "text/plain": [
       "Text(50.722222222222214, 0.5, 'predict values')"
      ]
     },
     "execution_count": 74,
     "metadata": {},
     "output_type": "execute_result"
    },
    {
     "data": {
      "image/png": "[encoded data removed]",
      "text/plain": [
       "<Figure size 640x480 with 2 Axes>"
      ]
     },
     "metadata": {},
     "output_type": "display_data"
    }
   ],
   "source": [
    "sns.heatmap(confusion_matrix(ytest,ypred),annot = True)\n",
    "plt.xlabel('Actual values')\n",
    "plt.ylabel('predict values')"
   ]
  },
  {
   "cell_type": "markdown",
   "id": "fa5b7057",
   "metadata": {},
   "source": [
    "# Threshold selection"
   ]
  },
  {
   "cell_type": "code",
   "execution_count": 82,
   "id": "bc97ba03",
   "metadata": {},
   "outputs": [],
   "source": [
    "proba = lg.predict_proba(xtest)[:,1]"
   ]
  },
  {
   "cell_type": "code",
   "execution_count": 83,
   "id": "d5861193",
   "metadata": {},
   "outputs": [
    {
     "data": {
      "text/plain": [
       "array([2.38012322e-05, 9.39504083e-05, 1.17115431e-03, ...,\n",
       "       2.48662903e-03, 3.37565265e-02, 6.40120646e-02])"
      ]
     },
     "execution_count": 83,
     "metadata": {},
     "output_type": "execute_result"
    }
   ],
   "source": [
    "proba"
   ]
  },
  {
   "cell_type": "code",
   "execution_count": 84,
   "id": "418b16b3",
   "metadata": {},
   "outputs": [],
   "source": [
    "from sklearn.metrics import roc_auc_score,roc_curve,accuracy_score"
   ]
  },
  {
   "cell_type": "code",
   "execution_count": 85,
   "id": "4110fea5",
   "metadata": {},
   "outputs": [],
   "source": [
    "auc = roc_auc_score(ytest,proba)"
   ]
  },
  {
   "cell_type": "code",
   "execution_count": 86,
   "id": "ee7d34cf",
   "metadata": {},
   "outputs": [],
   "source": [
    "fpr,tpr,threshold = roc_curve(ytest,proba)"
   ]
  },
  {
   "cell_type": "code",
   "execution_count": 88,
   "id": "8371a916",
   "metadata": {},
   "outputs": [
    {
     "data": {
      "text/plain": [
       "<matplotlib.legend.Legend at 0x1188e6f0af0>"
      ]
     },
     "execution_count": 88,
     "metadata": {},
     "output_type": "execute_result"
    },
    {
     "data": {
      "image/png": "[encoded data removed]",
      "text/plain": [
       "<Figure size 640x480 with 1 Axes>"
      ]
     },
     "metadata": {},
     "output_type": "display_data"
    }
   ],
   "source": [
    "plt.plot(fpr,tpr,label = '(AUC = %0.2f)'%auc)\n",
    "plt.legend()"
   ]
  },
  {
   "cell_type": "code",
   "execution_count": 89,
   "id": "df16997e",
   "metadata": {},
   "outputs": [
    {
     "data": {
      "text/plain": [
       "0.957446612170195"
      ]
     },
     "execution_count": 89,
     "metadata": {},
     "output_type": "execute_result"
    }
   ],
   "source": [
    "auc"
   ]
  },
  {
   "cell_type": "code",
   "execution_count": 90,
   "id": "bc4063a7",
   "metadata": {},
   "outputs": [
    {
     "data": {
      "text/plain": [
       "array([1.99998641e+00, 9.99986414e-01, 9.99976678e-01, 9.99908847e-01,\n",
       "       9.97589978e-01, 9.97338280e-01, 9.82901962e-01, 9.82838274e-01,\n",
       "       9.82528832e-01, 9.82449460e-01, 9.82162870e-01, 9.82160901e-01,\n",
       "       9.72500065e-01, 9.72399341e-01, 9.71761006e-01, 9.71541083e-01,\n",
       "       9.70510323e-01, 9.70379896e-01, 9.63431111e-01, 9.63318861e-01,\n",
       "       9.59497766e-01, 9.59356333e-01, 9.51678171e-01, 9.51595676e-01,\n",
       "       9.47396513e-01, 9.47087506e-01, 9.45625751e-01, 9.44973958e-01,\n",
       "       9.39561662e-01, 9.39145429e-01, 9.31958072e-01, 9.31785439e-01,\n",
       "       9.24339475e-01, 9.24075113e-01, 9.02472695e-01, 9.02303975e-01,\n",
       "       9.02274881e-01, 9.01875167e-01, 9.01476424e-01, 9.01291409e-01,\n",
       "       9.00139688e-01, 8.99751250e-01, 8.97603590e-01, 8.97430477e-01,\n",
       "       8.95788003e-01, 8.95513899e-01, 8.89398523e-01, 8.89248269e-01,\n",
       "       8.65040507e-01, 8.64995799e-01, 8.42764876e-01, 8.42610827e-01,\n",
       "       8.29732768e-01, 8.29633261e-01, 8.18474663e-01, 8.18462503e-01,\n",
       "       8.07301714e-01, 8.07126987e-01, 8.02124315e-01, 8.02054437e-01,\n",
       "       8.00868037e-01, 8.00063625e-01, 7.87764085e-01, 7.85606078e-01,\n",
       "       7.82481278e-01, 7.80773228e-01, 7.71793009e-01, 7.71107842e-01,\n",
       "       7.69622732e-01, 7.69593837e-01, 7.64157898e-01, 7.61720340e-01,\n",
       "       7.58129757e-01, 7.57162198e-01, 7.39351785e-01, 7.39015306e-01,\n",
       "       7.38371896e-01, 7.37125431e-01, 7.23910466e-01, 7.21405138e-01,\n",
       "       7.19092403e-01, 7.18913286e-01, 7.12656944e-01, 7.12414620e-01,\n",
       "       7.04230441e-01, 7.04087455e-01, 7.01067601e-01, 7.00202976e-01,\n",
       "       6.91837726e-01, 6.91595723e-01, 6.88687695e-01, 6.88254899e-01,\n",
       "       6.87984356e-01, 6.87800737e-01, 6.86685651e-01, 6.86553433e-01,\n",
       "       6.83309394e-01, 6.83259337e-01, 6.82904826e-01, 6.80956404e-01,\n",
       "       6.77687862e-01, 6.77285133e-01, 6.75252486e-01, 6.74311133e-01,\n",
       "       6.68335476e-01, 6.68083864e-01, 6.66223922e-01, 6.65336170e-01,\n",
       "       6.60734740e-01, 6.59247096e-01, 6.37586034e-01, 6.35826943e-01,\n",
       "       6.31097631e-01, 6.30861708e-01, 6.21347492e-01, 6.20551403e-01,\n",
       "       6.18963520e-01, 6.18141372e-01, 6.17633475e-01, 6.10245993e-01,\n",
       "       6.07576428e-01, 6.06982799e-01, 5.98301360e-01, 5.88685764e-01,\n",
       "       5.83688683e-01, 5.77395681e-01, 5.77313425e-01, 5.77184616e-01,\n",
       "       5.49942388e-01, 5.48823197e-01, 5.45016914e-01, 5.44155668e-01,\n",
       "       5.43735498e-01, 5.39253909e-01, 5.38041639e-01, 5.37338602e-01,\n",
       "       5.23960448e-01, 5.23247338e-01, 5.20088633e-01, 5.18359362e-01,\n",
       "       5.17839037e-01, 5.16026670e-01, 5.08932984e-01, 5.07692366e-01,\n",
       "       5.00823204e-01, 4.97841617e-01, 4.97314171e-01, 4.93798057e-01,\n",
       "       4.84097493e-01, 4.80356254e-01, 4.79985566e-01, 4.78757752e-01,\n",
       "       4.76936311e-01, 4.76436108e-01, 4.68404821e-01, 4.68199425e-01,\n",
       "       4.62482846e-01, 4.61106993e-01, 4.61092099e-01, 4.59615461e-01,\n",
       "       4.56474547e-01, 4.55852419e-01, 4.55848608e-01, 4.53287331e-01,\n",
       "       4.52771974e-01, 4.52511516e-01, 4.48814791e-01, 4.48412861e-01,\n",
       "       4.48317141e-01, 4.47436192e-01, 4.45748382e-01, 4.45672203e-01,\n",
       "       4.43807800e-01, 4.40134973e-01, 4.39994752e-01, 4.39987197e-01,\n",
       "       4.39804676e-01, 4.39529171e-01, 4.27763571e-01, 4.26894081e-01,\n",
       "       4.21406670e-01, 4.21009843e-01, 4.19896927e-01, 4.18327395e-01,\n",
       "       4.17544148e-01, 4.16306433e-01, 4.11352335e-01, 4.01313769e-01,\n",
       "       3.99908364e-01, 3.98259271e-01, 3.97790743e-01, 3.96766443e-01,\n",
       "       3.96269682e-01, 3.95497352e-01, 3.94113691e-01, 3.91865841e-01,\n",
       "       3.91477292e-01, 3.91422820e-01, 3.88778653e-01, 3.88701340e-01,\n",
       "       3.88323945e-01, 3.87099786e-01, 3.85639553e-01, 3.81369570e-01,\n",
       "       3.76459277e-01, 3.74216714e-01, 3.64998648e-01, 3.61107105e-01,\n",
       "       3.59140847e-01, 3.58902598e-01, 3.52668143e-01, 3.49559226e-01,\n",
       "       3.49133293e-01, 3.47362211e-01, 3.47020062e-01, 3.46649759e-01,\n",
       "       3.45936763e-01, 3.45888083e-01, 3.45392064e-01, 3.43668936e-01,\n",
       "       3.43636354e-01, 3.43316699e-01, 3.42704090e-01, 3.40399463e-01,\n",
       "       3.38372984e-01, 3.33171905e-01, 3.31631282e-01, 3.31080996e-01,\n",
       "       3.29183755e-01, 3.27904473e-01, 3.27478740e-01, 3.24905132e-01,\n",
       "       3.22857976e-01, 3.21669893e-01, 3.20614083e-01, 3.16488354e-01,\n",
       "       3.16400437e-01, 3.14401872e-01, 3.14260894e-01, 3.12457432e-01,\n",
       "       3.10821065e-01, 3.08949416e-01, 3.08846199e-01, 3.02997032e-01,\n",
       "       3.02514317e-01, 3.01326800e-01, 3.00082190e-01, 2.98510396e-01,\n",
       "       2.96371040e-01, 2.95953237e-01, 2.95037956e-01, 2.94879252e-01,\n",
       "       2.93862126e-01, 2.90701031e-01, 2.89960742e-01, 2.84527574e-01,\n",
       "       2.83428556e-01, 2.82358524e-01, 2.82181670e-01, 2.81517959e-01,\n",
       "       2.81472763e-01, 2.76570050e-01, 2.75167603e-01, 2.73614366e-01,\n",
       "       2.73355448e-01, 2.72928814e-01, 2.72858229e-01, 2.70069508e-01,\n",
       "       2.69268986e-01, 2.62111052e-01, 2.61117978e-01, 2.49906320e-01,\n",
       "       2.49173155e-01, 2.48770567e-01, 2.47328416e-01, 2.44044858e-01,\n",
       "       2.43921355e-01, 2.38933011e-01, 2.38338789e-01, 2.35755305e-01,\n",
       "       2.35746778e-01, 2.35091849e-01, 2.33671776e-01, 2.32986551e-01,\n",
       "       2.31375082e-01, 2.26408911e-01, 2.26225759e-01, 2.25160622e-01,\n",
       "       2.25094998e-01, 2.24529728e-01, 2.24492981e-01, 2.18003558e-01,\n",
       "       2.17235046e-01, 2.13817467e-01, 2.13140425e-01, 2.08705835e-01,\n",
       "       2.08182046e-01, 2.07103917e-01, 2.06133729e-01, 2.02667688e-01,\n",
       "       2.02295256e-01, 2.02164230e-01, 2.01859358e-01, 1.96848787e-01,\n",
       "       1.96573558e-01, 1.94622387e-01, 1.94515524e-01, 1.93384927e-01,\n",
       "       1.93155707e-01, 1.92404993e-01, 1.92269839e-01, 1.91795647e-01,\n",
       "       1.91598837e-01, 1.89213529e-01, 1.89130235e-01, 1.83394231e-01,\n",
       "       1.83149959e-01, 1.77021422e-01, 1.77005832e-01, 1.76858629e-01,\n",
       "       1.76554982e-01, 1.71792175e-01, 1.71663670e-01, 1.71540498e-01,\n",
       "       1.71533150e-01, 1.67348464e-01, 1.67272261e-01, 1.65495705e-01,\n",
       "       1.65294372e-01, 1.61877908e-01, 1.61738588e-01, 1.58284359e-01,\n",
       "       1.57984105e-01, 1.50298683e-01, 1.50279759e-01, 1.49457417e-01,\n",
       "       1.49270792e-01, 1.48841290e-01, 1.48625051e-01, 1.42583297e-01,\n",
       "       1.42557810e-01, 1.42020607e-01, 1.41807514e-01, 1.40503640e-01,\n",
       "       1.40476982e-01, 1.39934617e-01, 1.39260327e-01, 1.35642672e-01,\n",
       "       1.35628869e-01, 1.31944431e-01, 1.31870665e-01, 1.29554766e-01,\n",
       "       1.29525265e-01, 1.28385975e-01, 1.28319992e-01, 1.27342638e-01,\n",
       "       1.27058591e-01, 1.25480853e-01, 1.25231106e-01, 1.24219043e-01,\n",
       "       1.24160098e-01, 1.23081259e-01, 1.22997824e-01, 1.16881386e-01,\n",
       "       1.16860813e-01, 1.16453322e-01, 1.16213935e-01, 1.14778719e-01,\n",
       "       1.14468933e-01, 1.04422484e-01, 1.04232348e-01, 1.02904729e-01,\n",
       "       1.02834403e-01, 1.01844309e-01, 1.01830374e-01, 1.01304961e-01,\n",
       "       1.01173321e-01, 9.65844201e-02, 9.64739007e-02, 9.46547774e-02,\n",
       "       9.43957305e-02, 9.42107091e-02, 9.42068809e-02, 9.38349173e-02,\n",
       "       9.37817832e-02, 8.82422932e-02, 8.82187921e-02, 8.56862460e-02,\n",
       "       8.54109229e-02, 8.44559791e-02, 8.43973398e-02, 8.37185051e-02,\n",
       "       8.37075590e-02, 8.10968461e-02, 8.09654344e-02, 7.87849106e-02,\n",
       "       7.87757971e-02, 7.85436231e-02, 7.85296145e-02, 7.49713392e-02,\n",
       "       7.49098983e-02, 7.31677516e-02, 7.30682130e-02, 7.04200729e-02,\n",
       "       7.03323382e-02, 6.99860323e-02, 6.99221581e-02, 6.84633190e-02,\n",
       "       6.84396691e-02, 5.90486248e-02, 5.90395285e-02, 5.74405231e-02,\n",
       "       5.74391825e-02, 5.56666316e-02, 5.56424009e-02, 5.40267752e-02,\n",
       "       5.39992747e-02, 5.31228785e-02, 5.30925958e-02, 5.27894423e-02,\n",
       "       5.27575311e-02, 5.11622662e-02, 5.11157814e-02, 4.93139924e-02,\n",
       "       4.92958640e-02, 4.85921788e-02, 4.85374007e-02, 4.75097398e-02,\n",
       "       4.74659202e-02, 4.54739825e-02, 4.54417086e-02, 4.35581015e-02,\n",
       "       4.35548507e-02, 4.25806993e-02, 4.25615568e-02, 4.17878749e-02,\n",
       "       4.17828169e-02, 3.60021141e-02, 3.59807656e-02, 3.47591409e-02,\n",
       "       3.47489110e-02, 3.34821065e-02, 3.34531622e-02, 3.30592099e-02,\n",
       "       3.30457365e-02, 3.15773416e-02, 3.15741246e-02, 3.15470937e-02,\n",
       "       3.15160116e-02, 3.14658357e-02, 3.14629524e-02, 3.11352460e-02,\n",
       "       3.11086535e-02, 2.89154308e-02, 2.88577503e-02, 2.80922603e-02,\n",
       "       2.80868349e-02, 2.71967227e-02, 2.71703264e-02, 2.46376286e-02,\n",
       "       2.46289925e-02, 2.42335965e-02, 2.42286700e-02, 2.22273885e-02,\n",
       "       2.22262379e-02, 2.20089345e-02, 2.19954578e-02, 2.11700637e-02,\n",
       "       2.11570734e-02, 2.09837338e-02, 2.09829894e-02, 2.08322064e-02,\n",
       "       2.08277918e-02, 2.00177023e-02, 1.99992056e-02, 1.91651890e-02,\n",
       "       1.91527688e-02, 1.83427005e-02, 1.83316059e-02, 1.80027186e-02,\n",
       "       1.79956702e-02, 1.73247228e-02, 1.73179658e-02, 1.70707346e-02,\n",
       "       1.70690073e-02, 1.67038278e-02, 1.66910209e-02, 1.56725826e-02,\n",
       "       1.56715527e-02, 1.23600132e-02, 1.23441095e-02, 1.21017639e-02,\n",
       "       1.21007000e-02, 1.18054919e-02, 1.17957258e-02, 1.16919872e-02,\n",
       "       1.16883762e-02, 1.06042669e-02, 1.05955744e-02, 9.78655392e-03,\n",
       "       9.78632631e-03, 9.67195264e-03, 9.65343561e-03, 8.57653125e-03,\n",
       "       8.57140652e-03, 8.19380841e-03, 8.18913072e-03, 7.38482595e-03,\n",
       "       7.37337696e-03, 5.98557890e-03, 5.97614709e-03, 5.86686507e-03,\n",
       "       5.85982391e-03, 5.42249220e-03, 5.42210009e-03, 5.34926560e-03,\n",
       "       5.34606860e-03, 4.97921140e-03, 4.97574369e-03, 4.68777068e-03,\n",
       "       4.68447016e-03, 4.19122267e-03, 4.19108873e-03, 3.77614343e-03,\n",
       "       3.77008299e-03, 2.73859290e-03, 2.73346004e-03, 2.61702187e-03,\n",
       "       2.61606247e-03, 2.50422655e-03, 2.50396252e-03, 2.32486705e-03,\n",
       "       2.32413801e-03, 2.29286050e-03, 2.29187872e-03, 1.86917526e-03,\n",
       "       1.86816052e-03, 1.17668159e-03, 1.17642986e-03, 1.17497992e-03,\n",
       "       1.17388828e-03, 1.08557059e-03, 1.08478594e-03, 1.00432765e-03,\n",
       "       1.00418005e-03, 7.08307272e-04, 7.07330134e-04, 6.99035335e-04,\n",
       "       6.98806943e-04, 5.91853222e-04, 5.91723341e-04, 5.72544721e-04,\n",
       "       5.72451461e-04, 3.45864250e-04, 3.44505561e-04, 3.42800864e-04,\n",
       "       3.42741043e-04, 3.23441643e-04, 3.23312725e-04, 3.12731810e-04,\n",
       "       3.12687306e-04, 2.66203487e-04, 2.65956530e-04, 2.49221367e-04,\n",
       "       2.48772869e-04, 2.01888200e-04, 2.01855778e-04, 1.77059350e-04,\n",
       "       1.76607525e-04, 1.01427392e-04, 1.00882868e-04, 4.59930780e-05,\n",
       "       4.59338809e-05, 3.39625864e-05, 3.35143228e-05, 3.05603137e-05,\n",
       "       3.04622654e-05, 1.84484822e-05, 1.80202980e-05, 1.16530903e-05,\n",
       "       1.15900351e-05, 9.82627704e-06, 9.79134224e-06, 8.85978348e-08,\n",
       "       8.78245343e-08, 4.07698286e-08, 3.92624450e-08, 4.47332247e-30])"
      ]
     },
     "execution_count": 90,
     "metadata": {},
     "output_type": "execute_result"
    }
   ],
   "source": [
    "threshold"
   ]
  },
  {
   "cell_type": "code",
   "execution_count": 91,
   "id": "137dcc30",
   "metadata": {},
   "outputs": [
    {
     "data": {
      "text/plain": [
       "588"
      ]
     },
     "execution_count": 91,
     "metadata": {},
     "output_type": "execute_result"
    }
   ],
   "source": [
    "len(threshold)"
   ]
  },
  {
   "cell_type": "code",
   "execution_count": 92,
   "id": "148baf0e",
   "metadata": {},
   "outputs": [],
   "source": [
    "accuracy = []\n",
    "\n",
    "for i in threshold:\n",
    "    ypred = np.where(proba>i,1,0)\n",
    "    accuracy.append(accuracy_score(ytest,ypred))\n",
    "\n",
    "final_threshold = pd.concat([pd.Series(threshold),pd.Series(accuracy)], axis=1)\n",
    "final_threshold.columns = ['Threshold','Accuracy']"
   ]
  },
  {
   "cell_type": "code",
   "execution_count": 93,
   "id": "5a297ac1",
   "metadata": {},
   "outputs": [
    {
     "data": {
      "text/html": [
       "<div>\n",
       "<style scoped>\n",
       "    .dataframe tbody tr th:only-of-type {\n",
       "        vertical-align: middle;\n",
       "    }\n",
       "\n",
       "    .dataframe tbody tr th {\n",
       "        vertical-align: top;\n",
       "    }\n",
       "\n",
       "    .dataframe thead th {\n",
       "        text-align: right;\n",
       "    }\n",
       "</style>\n",
       "<table border=\"1\" class=\"dataframe\">\n",
       "  <thead>\n",
       "    <tr style=\"text-align: right;\">\n",
       "      <th></th>\n",
       "      <th>Threshold</th>\n",
       "      <th>Accuracy</th>\n",
       "    </tr>\n",
       "  </thead>\n",
       "  <tbody>\n",
       "    <tr>\n",
       "      <th>186</th>\n",
       "      <td>4.113523e-01</td>\n",
       "      <td>0.968946</td>\n",
       "    </tr>\n",
       "    <tr>\n",
       "      <th>178</th>\n",
       "      <td>4.277636e-01</td>\n",
       "      <td>0.968681</td>\n",
       "    </tr>\n",
       "    <tr>\n",
       "      <th>179</th>\n",
       "      <td>4.268941e-01</td>\n",
       "      <td>0.968681</td>\n",
       "    </tr>\n",
       "    <tr>\n",
       "      <th>187</th>\n",
       "      <td>4.013138e-01</td>\n",
       "      <td>0.968592</td>\n",
       "    </tr>\n",
       "    <tr>\n",
       "      <th>188</th>\n",
       "      <td>3.999084e-01</td>\n",
       "      <td>0.968592</td>\n",
       "    </tr>\n",
       "    <tr>\n",
       "      <th>...</th>\n",
       "      <td>...</td>\n",
       "      <td>...</td>\n",
       "    </tr>\n",
       "    <tr>\n",
       "      <th>583</th>\n",
       "      <td>8.859783e-08</td>\n",
       "      <td>0.130231</td>\n",
       "    </tr>\n",
       "    <tr>\n",
       "      <th>584</th>\n",
       "      <td>8.782453e-08</td>\n",
       "      <td>0.130142</td>\n",
       "    </tr>\n",
       "    <tr>\n",
       "      <th>585</th>\n",
       "      <td>4.076983e-08</td>\n",
       "      <td>0.128461</td>\n",
       "    </tr>\n",
       "    <tr>\n",
       "      <th>586</th>\n",
       "      <td>3.926244e-08</td>\n",
       "      <td>0.128373</td>\n",
       "    </tr>\n",
       "    <tr>\n",
       "      <th>587</th>\n",
       "      <td>4.473322e-30</td>\n",
       "      <td>0.115102</td>\n",
       "    </tr>\n",
       "  </tbody>\n",
       "</table>\n",
       "<p>588 rows × 2 columns</p>\n",
       "</div>"
      ],
      "text/plain": [
       "        Threshold  Accuracy\n",
       "186  4.113523e-01  0.968946\n",
       "178  4.277636e-01  0.968681\n",
       "179  4.268941e-01  0.968681\n",
       "187  4.013138e-01  0.968592\n",
       "188  3.999084e-01  0.968592\n",
       "..            ...       ...\n",
       "583  8.859783e-08  0.130231\n",
       "584  8.782453e-08  0.130142\n",
       "585  4.076983e-08  0.128461\n",
       "586  3.926244e-08  0.128373\n",
       "587  4.473322e-30  0.115102\n",
       "\n",
       "[588 rows x 2 columns]"
      ]
     },
     "execution_count": 93,
     "metadata": {},
     "output_type": "execute_result"
    }
   ],
   "source": [
    "final_threshold.sort_values(by='Accuracy', ascending=False)"
   ]
  },
  {
   "cell_type": "code",
   "execution_count": 94,
   "id": "f931d758",
   "metadata": {},
   "outputs": [],
   "source": [
    "from sklearn.preprocessing import binarize"
   ]
  },
  {
   "cell_type": "code",
   "execution_count": 95,
   "id": "da3e19ca",
   "metadata": {},
   "outputs": [
    {
     "data": {
      "text/plain": [
       "array([0., 0., 0., ..., 0., 0., 0.])"
      ]
     },
     "execution_count": 95,
     "metadata": {},
     "output_type": "execute_result"
    }
   ],
   "source": [
    "y = binarize([proba], threshold=0.442068)[0]\n",
    "y"
   ]
  },
  {
   "cell_type": "code",
   "execution_count": 96,
   "id": "367e38aa",
   "metadata": {},
   "outputs": [
    {
     "name": "stdout",
     "output_type": "stream",
     "text": [
      "              precision    recall  f1-score   support\n",
      "\n",
      "           0       0.98      0.99      0.98     10003\n",
      "           1       0.91      0.81      0.85      1300\n",
      "\n",
      "    accuracy                           0.97     11303\n",
      "   macro avg       0.94      0.90      0.92     11303\n",
      "weighted avg       0.97      0.97      0.97     11303\n",
      "\n"
     ]
    }
   ],
   "source": [
    "print(classification_report(ytest,y))"
   ]
  },
  {
   "cell_type": "code",
   "execution_count": null,
   "id": "1ab5a907",
   "metadata": {},
   "outputs": [],
   "source": []
  },
  {
   "cell_type": "code",
   "execution_count": null,
   "id": "77ce0f79",
   "metadata": {},
   "outputs": [],
   "source": []
  },
  {
   "cell_type": "code",
   "execution_count": null,
   "id": "cb4c8635",
   "metadata": {},
   "outputs": [],
   "source": []
  },
  {
   "cell_type": "code",
   "execution_count": null,
   "id": "77c64fb4",
   "metadata": {},
   "outputs": [],
   "source": []
  },
  {
   "cell_type": "code",
   "execution_count": null,
   "id": "c4ae7174",
   "metadata": {},
   "outputs": [],
   "source": []
  },
  {
   "cell_type": "code",
   "execution_count": null,
   "id": "1d8ef38b",
   "metadata": {},
   "outputs": [],
   "source": []
  }
 ],
 "metadata": {
  "kernelspec": {
   "display_name": "Python 3 (ipykernel)",
   "language": "python",
   "name": "python3"
  },
  "language_info": {
   "codemirror_mode": {
    "name": "ipython",
    "version": 3
   },
   "file_extension": ".py",
   "mimetype": "text/x-python",
   "name": "python",
   "nbconvert_exporter": "python",
   "pygments_lexer": "ipython3",
   "version": "3.9.13"
  }
 },
 "nbformat": 4,
 "nbformat_minor": 5
}
